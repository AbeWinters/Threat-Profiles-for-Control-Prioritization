{
 "cells": [
  {
   "cell_type": "code",
   "execution_count": 2,
   "metadata": {},
   "outputs": [
    {
     "name": "stdout",
     "output_type": "stream",
     "text": [
      "Index(['mitre_attack_id', 'mitre_attack_name', 'mitre_attack_aliases',\n",
      "       'mitre_attack_created', 'mitre_attack_last_modified', 'mitre_url',\n",
      "       'etda_id', 'etda_name', 'etda_aliases', 'etda_first_seen', 'etda_url',\n",
      "       'country', 'motivation', 'victim_industries', 'victim_countries',\n",
      "       'mitre_attack_ttps'],\n",
      "      dtype='object')\n"
     ]
    }
   ],
   "source": [
    "import pandas as pd\n",
    "import json \n",
    "\n",
    "file = open('Categorized_Adversary_TTPs.json')\n",
    "\n",
    "jsonfile = json.load(file)\n",
    "\n",
    "df = pd.read_json('Categorized_Adversary_TTPs.json')\n",
    "print(df.columns)"
   ]
  },
  {
   "attachments": {},
   "cell_type": "markdown",
   "metadata": {},
   "source": [
    "## Functions to help access the data"
   ]
  },
  {
   "cell_type": "code",
   "execution_count": 55,
   "metadata": {},
   "outputs": [],
   "source": [
    "def get_actor_ETDA(actor):\n",
    "   return df.loc[df['etda_name'] == actor]\n",
    "\n",
    "def get_actor_list_ETDA(actor_list):\n",
    "   return df.loc[df['etda_name'].isin(actor_list)]\n",
    "\n",
    "def to_1D(series):\n",
    " return pd.Series([x for _list in series for x in _list if len(x) > 1]) # Convert column of lists to one list and remove single character values\n",
    "\n",
    "def get_industries():\n",
    "    return to_1D(df['victim_industries']).value_counts().index.to_list()\n"
   ]
  },
  {
   "cell_type": "code",
   "execution_count": 56,
   "metadata": {},
   "outputs": [
    {
     "data": {
      "text/html": [
       "<div>\n",
       "<style scoped>\n",
       "    .dataframe tbody tr th:only-of-type {\n",
       "        vertical-align: middle;\n",
       "    }\n",
       "\n",
       "    .dataframe tbody tr th {\n",
       "        vertical-align: top;\n",
       "    }\n",
       "\n",
       "    .dataframe thead th {\n",
       "        text-align: right;\n",
       "    }\n",
       "</style>\n",
       "<table border=\"1\" class=\"dataframe\">\n",
       "  <thead>\n",
       "    <tr style=\"text-align: right;\">\n",
       "      <th></th>\n",
       "      <th>mitre_attack_id</th>\n",
       "      <th>mitre_attack_name</th>\n",
       "      <th>mitre_attack_aliases</th>\n",
       "      <th>mitre_attack_created</th>\n",
       "      <th>mitre_attack_last_modified</th>\n",
       "      <th>mitre_url</th>\n",
       "      <th>etda_id</th>\n",
       "      <th>etda_name</th>\n",
       "      <th>etda_aliases</th>\n",
       "      <th>etda_first_seen</th>\n",
       "      <th>etda_url</th>\n",
       "      <th>country</th>\n",
       "      <th>motivation</th>\n",
       "      <th>victim_industries</th>\n",
       "      <th>victim_countries</th>\n",
       "      <th>mitre_attack_ttps</th>\n",
       "    </tr>\n",
       "  </thead>\n",
       "  <tbody>\n",
       "    <tr>\n",
       "      <th>8</th>\n",
       "      <td>intrusion-set--899ce53f-13a0-479b-a0e4-67d46e2...</td>\n",
       "      <td>APT29</td>\n",
       "      <td>[APT29, IRON RITUAL, IRON HEMLOCK, NobleBaron,...</td>\n",
       "      <td>2017-05-31</td>\n",
       "      <td>2022-07-11</td>\n",
       "      <td>https://attack.mitre.org/groups/G0016</td>\n",
       "      <td>93ba9804-335e-4782-855d-40af22b93201</td>\n",
       "      <td>APT 29, Cozy Bear, The Dukes</td>\n",
       "      <td>[APT 29, Cozy Bear, The Dukes, Group 100, Yttr...</td>\n",
       "      <td>2008</td>\n",
       "      <td>https://apt.etda.or.th/cgi-bin/showcard.cgi?u=...</td>\n",
       "      <td>RU</td>\n",
       "      <td>[Information theft and espionage]</td>\n",
       "      <td>[Aerospace, Defense, Education, Energy, Financ...</td>\n",
       "      <td>[Australia, Azerbaijan, Belarus, Belgium, Braz...</td>\n",
       "      <td>[T1078.004, T1001.002, T1087, T1562.004, T1560...</td>\n",
       "    </tr>\n",
       "    <tr>\n",
       "      <th>31</th>\n",
       "      <td>intrusion-set--dc5e2999-ca1a-47d4-8d12-a6984b1...</td>\n",
       "      <td>UNC2452</td>\n",
       "      <td>[UNC2452, NOBELIUM, StellarParticle, Dark Halo]</td>\n",
       "      <td>2021-01-05</td>\n",
       "      <td>2021-05-04</td>\n",
       "      <td>https://attack.mitre.org/groups/G0118</td>\n",
       "      <td>93ba9804-335e-4782-855d-40af22b93201</td>\n",
       "      <td>APT 29, Cozy Bear, The Dukes</td>\n",
       "      <td>[APT 29, Cozy Bear, The Dukes, Group 100, Yttr...</td>\n",
       "      <td>2008</td>\n",
       "      <td>https://apt.etda.or.th/cgi-bin/showcard.cgi?u=...</td>\n",
       "      <td>RU</td>\n",
       "      <td>[Information theft and espionage]</td>\n",
       "      <td>[Aerospace, Defense, Education, Energy, Financ...</td>\n",
       "      <td>[Australia, Azerbaijan, Belarus, Belgium, Braz...</td>\n",
       "      <td>[T1027, T1606.001, T1218.011, T1546.003, T1021...</td>\n",
       "    </tr>\n",
       "  </tbody>\n",
       "</table>\n",
       "</div>"
      ],
      "text/plain": [
       "                                      mitre_attack_id mitre_attack_name  \\\n",
       "8   intrusion-set--899ce53f-13a0-479b-a0e4-67d46e2...             APT29   \n",
       "31  intrusion-set--dc5e2999-ca1a-47d4-8d12-a6984b1...           UNC2452   \n",
       "\n",
       "                                 mitre_attack_aliases mitre_attack_created  \\\n",
       "8   [APT29, IRON RITUAL, IRON HEMLOCK, NobleBaron,...           2017-05-31   \n",
       "31    [UNC2452, NOBELIUM, StellarParticle, Dark Halo]           2021-01-05   \n",
       "\n",
       "   mitre_attack_last_modified                              mitre_url  \\\n",
       "8                  2022-07-11  https://attack.mitre.org/groups/G0016   \n",
       "31                 2021-05-04  https://attack.mitre.org/groups/G0118   \n",
       "\n",
       "                                 etda_id                     etda_name  \\\n",
       "8   93ba9804-335e-4782-855d-40af22b93201  APT 29, Cozy Bear, The Dukes   \n",
       "31  93ba9804-335e-4782-855d-40af22b93201  APT 29, Cozy Bear, The Dukes   \n",
       "\n",
       "                                         etda_aliases  etda_first_seen  \\\n",
       "8   [APT 29, Cozy Bear, The Dukes, Group 100, Yttr...             2008   \n",
       "31  [APT 29, Cozy Bear, The Dukes, Group 100, Yttr...             2008   \n",
       "\n",
       "                                             etda_url country  \\\n",
       "8   https://apt.etda.or.th/cgi-bin/showcard.cgi?u=...      RU   \n",
       "31  https://apt.etda.or.th/cgi-bin/showcard.cgi?u=...      RU   \n",
       "\n",
       "                           motivation  \\\n",
       "8   [Information theft and espionage]   \n",
       "31  [Information theft and espionage]   \n",
       "\n",
       "                                    victim_industries  \\\n",
       "8   [Aerospace, Defense, Education, Energy, Financ...   \n",
       "31  [Aerospace, Defense, Education, Energy, Financ...   \n",
       "\n",
       "                                     victim_countries  \\\n",
       "8   [Australia, Azerbaijan, Belarus, Belgium, Braz...   \n",
       "31  [Australia, Azerbaijan, Belarus, Belgium, Braz...   \n",
       "\n",
       "                                    mitre_attack_ttps  \n",
       "8   [T1078.004, T1001.002, T1087, T1562.004, T1560...  \n",
       "31  [T1027, T1606.001, T1218.011, T1546.003, T1021...  "
      ]
     },
     "execution_count": 56,
     "metadata": {},
     "output_type": "execute_result"
    }
   ],
   "source": [
    "get_actor_ETDA('APT 29, Cozy Bear, The Dukes')"
   ]
  },
  {
   "attachments": {},
   "cell_type": "markdown",
   "metadata": {},
   "source": [
    "# Statistics"
   ]
  },
  {
   "cell_type": "code",
   "execution_count": 28,
   "metadata": {},
   "outputs": [
    {
     "name": "stdout",
     "output_type": "stream",
     "text": [
      "Number of actors in data: 134\n",
      "Number of industries in data: 41\n",
      "Number of actors per industry:\n"
     ]
    },
    {
     "data": {
      "text/plain": [
       "Government                     87\n",
       "Defense                        61\n",
       "Financial                      50\n",
       "Telecommunications             44\n",
       "Energy                         43\n",
       "Media                          37\n",
       "Education                      35\n",
       "Healthcare                     32\n",
       "High-Tech                      30\n",
       "Manufacturing                  26\n",
       "Aerospace                      17\n",
       "IT                             16\n",
       "Oil and gas                    16\n",
       "Transportation                 16\n",
       "Aviation                       15\n",
       "Technology                     14\n",
       "NGOs                           14\n",
       "Pharmaceutical                 14\n",
       "Engineering                    13\n",
       "Hospitality                    13\n",
       "Think Tanks                    11\n",
       "Embassies                      10\n",
       "Chemical                        9\n",
       "Retail                          9\n",
       "Construction                    8\n",
       "Research                        7\n",
       "Industrial                      5\n",
       "Shipping and Logistics          5\n",
       "Mining                          5\n",
       "Utilities                       5\n",
       "Food and Agriculture            5\n",
       "Automotive                      4\n",
       "Law enforcement                 4\n",
       "Critical infrastructure         4\n",
       "Entertainment                   3\n",
       "Petrochemical                   3\n",
       "Casinos and Gambling            3\n",
       "Gaming                          3\n",
       "Satellites                      3\n",
       "Online video game companies     2\n",
       "Non-profit organizations        1\n",
       "dtype: int64"
      ]
     },
     "execution_count": 28,
     "metadata": {},
     "output_type": "execute_result"
    }
   ],
   "source": [
    "industries = get_industries()\n",
    "print(\"Number of actors in data:\",len(df))\n",
    "print(\"Number of industries in data:\",len(get_industries()))\n",
    "\n",
    "print('Number of actors per industry:')\n",
    "to_1D(df['victim_industries']).value_counts()"
   ]
  }
 ],
 "metadata": {
  "kernelspec": {
   "display_name": "base",
   "language": "python",
   "name": "python3"
  },
  "language_info": {
   "codemirror_mode": {
    "name": "ipython",
    "version": 3
   },
   "file_extension": ".py",
   "mimetype": "text/x-python",
   "name": "python",
   "nbconvert_exporter": "python",
   "pygments_lexer": "ipython3",
   "version": "3.9.13"
  },
  "orig_nbformat": 4,
  "vscode": {
   "interpreter": {
    "hash": "fefc25d8fb2c87e371a11893aec4d5cf8450c56c13fd415e10bba8aac80dc75c"
   }
  }
 },
 "nbformat": 4,
 "nbformat_minor": 2
}
