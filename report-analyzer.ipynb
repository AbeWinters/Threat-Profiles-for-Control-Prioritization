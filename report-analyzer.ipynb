{
 "cells": [
  {
   "attachments": {},
   "cell_type": "markdown",
   "metadata": {},
   "source": [
    "# Analysis of threat reports\n",
    "This notebook contains cells to analyse threat reports on the threats and actors they describe."
   ]
  },
  {
   "attachments": {},
   "cell_type": "markdown",
   "metadata": {},
   "source": [
    "### Build initial threat- and actor list from spreadsheet"
   ]
  },
  {
   "cell_type": "code",
   "execution_count": 2,
   "metadata": {},
   "outputs": [],
   "source": [
    "import pandas as pd\n",
    "\n",
    "file = \"Threat reports.xlsx\"\n",
    "reports = pd.ExcelFile(file).parse('Threat reports')"
   ]
  },
  {
   "cell_type": "code",
   "execution_count": 18,
   "metadata": {},
   "outputs": [
    {
     "name": "stdout",
     "output_type": "stream",
     "text": [
      "Threats:\n",
      " ['ransomware', 'crypto malware', 'scams', 'adware', 'fleeceware', 'phishing', '', 'coinminers', 'information stealers', 'remote access trojans', 'technical support cams', 'rootkits', 'banking trojan', 'zoombombing', 'cryptojacking', 'malspam', 'exploit kits', 'remote access', 'spyware', 'remote access trojan', 'botnet', 'remote code execution', 'supply chain attacks', 'cryptominig', 'trojans', 'exploit kit', 'information stealer', 'business email compromise', 'brand abuse', 'supply chain attack', 'data exposure on code repositories', 'targeted threats on remote work', 'DDoS', 'proxy shell', 'account compromise', 'system compromise', 'botnets', 'wipers', 'server access', 'credential harvesting', 'misconfiguration', 'malicious insider', 'vulnerability exploitation', 'brute force', 'password spraying', 'DNS attack', 'credential stuffing', 'BGP rerouting', 'network pivot', 'network infrastructure compromise', 'local code execution', 'use of stolen credentials', 'pretexting', 'misdelivery', 'C2', 'backdoor', 'privilege abuse', 'capture app data', 'trojan', 'denial of service', 'loss', 'misconficuration', 'password dumper']\n",
      "Threat actors:\n",
      " ['LuckyMouse', 'Mustang Panda', 'Gamaredon', 'Bahamut', 'CostaRicto', 'APT32', 'APT27', 'APT29', 'Lazarus/APT38', 'Promethium', 'HAFNIUM', 'Wizard Spider', 'Bitwise Spider', 'Carbon Spider', 'Pinchy Spider', 'Pioneer Kitten', 'Deus', 'BlackShadow', 'Moses Staff', 'Nemesis Kitten', 'Wicked Panda', 'Doppel Spider', 'Aquatic Panda', 'Fancy Bear', 'Cozy Bear', 'nei', 'barf', 'inthematrix1', 'UNC2452', 'Astro Locker Team', 'Hafnium', '', 'APT41', 'MuddyWater', 'ITG23', 'LemonDuck', 'Hive0088', 'Sodinokibi', 'Maze', 'APT28', 'Carbanak', 'Callisto Group', 'Sandworm', 'Energetic Bear', 'SoftCell', 'APT15', 'APT40', 'APT38', 'Lazarus', 'Konni', 'Andariel', 'Tortoiseshell', 'Charming Kitten', 'Fox Kitten Parasite', 'ControlX', 'APT5', 'APT31', 'Sea Turtle', 'Kimsuky', 'MuddyWater,APT33,APT35,APT41', 'Dark Hotel', 'Venomous Bear', 'Earth Lusca', 'Earth Berberoka', 'TeamTNT', 'Kinsing Are', 'Outlaw', '8220', 'Kek Security', 'Water Pamola', 'Earth Wendigo', 'Earth Vetala', 'Iron Tiger', 'PlugX']\n"
     ]
    }
   ],
   "source": [
    "# Build the lists\n",
    "threatlist = []\n",
    "actorlist = []\n",
    "\n",
    "for index, row in reports.iterrows():\n",
    "    threats = row['threats']\n",
    "    if not pd.isna(threats):\n",
    "        for threat in threats.split(\", \"):\n",
    "            if threat not in threatlist:\n",
    "                threatlist.append(threat)\n",
    "\n",
    "    actors = row['actors']\n",
    "    if not pd.isna(actors):\n",
    "        for actor in actors.split(\", \"):\n",
    "            if actor not in actorlist:\n",
    "                actorlist.append(actor)\n",
    "\n",
    "print(\"Threats:\\n\",threatlist)\n",
    "print(\"Threat actors:\\n\",actorlist)"
   ]
  },
  {
   "attachments": {},
   "cell_type": "markdown",
   "metadata": {},
   "source": [
    "### PDF Scanner"
   ]
  },
  {
   "cell_type": "code",
   "execution_count": 19,
   "metadata": {},
   "outputs": [
    {
     "ename": "ModuleNotFoundError",
     "evalue": "No module named 'PyPDF2'",
     "output_type": "error",
     "traceback": [
      "\u001b[1;31m---------------------------------------------------------------------------\u001b[0m",
      "\u001b[1;31mModuleNotFoundError\u001b[0m                       Traceback (most recent call last)",
      "\u001b[1;32m~\\AppData\\Local\\Temp\\ipykernel_8584\\3373486537.py\u001b[0m in \u001b[0;36m<module>\u001b[1;34m\u001b[0m\n\u001b[1;32m----> 1\u001b[1;33m \u001b[1;32mimport\u001b[0m \u001b[0mPyPDF2\u001b[0m\u001b[1;33m\u001b[0m\u001b[1;33m\u001b[0m\u001b[0m\n\u001b[0m\u001b[0;32m      2\u001b[0m \u001b[1;33m\u001b[0m\u001b[0m\n\u001b[0;32m      3\u001b[0m \u001b[0mresult_list\u001b[0m \u001b[1;33m=\u001b[0m \u001b[1;33m[\u001b[0m\u001b[1;33m]\u001b[0m\u001b[1;33m\u001b[0m\u001b[1;33m\u001b[0m\u001b[0m\n\u001b[0;32m      4\u001b[0m \u001b[0mreader\u001b[0m \u001b[1;33m=\u001b[0m \u001b[0mPyPDF2\u001b[0m\u001b[1;33m.\u001b[0m\u001b[0mPdfFileReader\u001b[0m\u001b[1;33m(\u001b[0m\u001b[0mfile\u001b[0m\u001b[1;33m)\u001b[0m\u001b[1;33m\u001b[0m\u001b[1;33m\u001b[0m\u001b[0m\n\u001b[0;32m      5\u001b[0m \u001b[1;32mfor\u001b[0m \u001b[0mpage_number\u001b[0m \u001b[1;32min\u001b[0m \u001b[0mrange\u001b[0m\u001b[1;33m(\u001b[0m\u001b[1;36m0\u001b[0m\u001b[1;33m,\u001b[0m \u001b[0mreader\u001b[0m\u001b[1;33m.\u001b[0m\u001b[0mnumPages\u001b[0m\u001b[1;33m)\u001b[0m\u001b[1;33m:\u001b[0m\u001b[1;33m\u001b[0m\u001b[1;33m\u001b[0m\u001b[0m\n",
      "\u001b[1;31mModuleNotFoundError\u001b[0m: No module named 'PyPDF2'"
     ]
    }
   ],
   "source": [
    "import PyPDF2\n",
    "\n",
    "result_list = []\n",
    "reader = PyPDF2.PdfFileReader(file)\n",
    "for page_number in range(0, reader.numPages):\n",
    "     page = reader.getPage(page_number)\n",
    "     page_content = page.extractText()\n",
    "     if search_term in page_content:\n",
    "          result = {\n",
    "               \"page\": page_number,\n",
    "               \"content\": page_content\n",
    "          }\n",
    "          result_list.append(result)"
   ]
  }
 ],
 "metadata": {
  "kernelspec": {
   "display_name": "base",
   "language": "python",
   "name": "python3"
  },
  "language_info": {
   "codemirror_mode": {
    "name": "ipython",
    "version": 3
   },
   "file_extension": ".py",
   "mimetype": "text/x-python",
   "name": "python",
   "nbconvert_exporter": "python",
   "pygments_lexer": "ipython3",
   "version": "3.9.13"
  },
  "orig_nbformat": 4,
  "vscode": {
   "interpreter": {
    "hash": "fefc25d8fb2c87e371a11893aec4d5cf8450c56c13fd415e10bba8aac80dc75c"
   }
  }
 },
 "nbformat": 4,
 "nbformat_minor": 2
}
