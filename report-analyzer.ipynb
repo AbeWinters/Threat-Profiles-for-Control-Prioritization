{
 "cells": [
  {
   "attachments": {},
   "cell_type": "markdown",
   "metadata": {},
   "source": [
    "# Analysis of threat reports\n",
    "This notebook contains cells to analyse threat reports on the threats and actors they describe."
   ]
  },
  {
   "attachments": {},
   "cell_type": "markdown",
   "metadata": {},
   "source": [
    "### Build initial threat- and actor list from spreadsheet"
   ]
  },
  {
   "cell_type": "code",
   "execution_count": null,
   "metadata": {},
   "outputs": [],
   "source": [
    "import pandas as pd\n",
    "\n",
    "file = \"\"\n",
    "reports = pd.ExcelFile(file).parse('Threat reports')"
   ]
  },
  {
   "cell_type": "code",
   "execution_count": null,
   "metadata": {},
   "outputs": [],
   "source": [
    "# Build the lists\n",
    "threatlist = []\n",
    "actorlist = []\n",
    "\n",
    "for index, row in reports.iterrows():\n",
    "    threats = row['threats'].split(', ')\n",
    "    for threat in threats:\n",
    "        if threat not in threatlist:\n",
    "            threatlist.append(threat)\n",
    "\n",
    "    actors = row['actors'].split(', ')\n",
    "    for actor in actors:\n",
    "        if actor not in actorlist:\n",
    "            actorlist.append(actor)\n",
    "\n",
    "print(threatlist)\n",
    "print(actorlist)"
   ]
  },
  {
   "attachments": {},
   "cell_type": "markdown",
   "metadata": {},
   "source": [
    "### PDF Scanner"
   ]
  },
  {
   "cell_type": "code",
   "execution_count": null,
   "metadata": {},
   "outputs": [],
   "source": [
    "import PyPDF2\n",
    "\n",
    "result_list = []\n",
    "reader = PyPDF2.PdfFileReader(file)\n",
    "for page_number in range(0, reader.numPages):\n",
    "     page = reader.getPage(page_number)\n",
    "     page_content = page.extractText()\n",
    "     if search_term in page_content:\n",
    "          result = {\n",
    "               \"page\": page_number,\n",
    "               \"content\": page_content\n",
    "          }\n",
    "          result_list.append(result)"
   ]
  }
 ],
 "metadata": {
  "kernelspec": {
   "display_name": "Python 3.7.2 ('venv': virtualenv)",
   "language": "python",
   "name": "python3"
  },
  "language_info": {
   "name": "python",
   "version": "3.7.2"
  },
  "orig_nbformat": 4,
  "vscode": {
   "interpreter": {
    "hash": "496cb892821334335263c162f37d6e23e22cc8dfc2bb1617a8f6059ec79ad82b"
   }
  }
 },
 "nbformat": 4,
 "nbformat_minor": 2
}
