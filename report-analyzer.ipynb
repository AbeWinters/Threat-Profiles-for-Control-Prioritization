{
 "cells": [
  {
   "attachments": {},
   "cell_type": "markdown",
   "metadata": {},
   "source": [
    "# Analysis of threat reports\n",
    "This notebook contains cells to analyse threat reports on the threats and actors they describe."
   ]
  },
  {
   "attachments": {},
   "cell_type": "markdown",
   "metadata": {},
   "source": [
    "### Build initial threat- and actor list from spreadsheet"
   ]
  },
  {
   "cell_type": "code",
   "execution_count": 2,
   "metadata": {},
   "outputs": [],
   "source": [
    "import pandas as pd\n",
    "\n",
    "file = \"Threat reports.xlsx\"\n",
    "reports = pd.ExcelFile(file).parse('Threat reports')"
   ]
  },
  {
   "cell_type": "code",
   "execution_count": 48,
   "metadata": {},
   "outputs": [
    {
     "name": "stdout",
     "output_type": "stream",
     "text": [
      "Threats:\n",
      " ['ransomware', 'crypto malware', 'scams', 'adware', 'fleeceware', 'phishing', 'coinminers', 'information stealers', 'remote access trojans', 'technical support cams', 'rootkits', 'banking trojan', 'zoombombing', 'cryptojacking', 'malspam', 'exploit kits', 'remote access', 'spyware', 'remote access trojan', 'botnet', 'remote code execution', 'supply chain attacks', 'cryptominig', 'trojans', 'exploit kit', 'information stealer', 'business email compromise', 'brand abuse', 'supply chain attack', 'data exposure on code repositories', 'targeted threats on remote work', 'DDoS', 'proxy shell', 'account compromise', 'system compromise', 'botnets', 'wipers', 'server access', 'credential harvesting', 'misconfiguration', 'malicious insider', 'vulnerability exploitation', 'brute force', 'password spraying', 'DNS attack', 'credential stuffing', 'BGP rerouting', 'network pivot', 'network infrastructure compromise', 'local code execution', 'use of stolen credentials', 'pretexting', 'misdelivery', 'C2', 'backdoor', 'privilege abuse', 'capture app data', 'trojan', 'denial of service', 'loss', 'misconficuration', 'password dumper']\n",
      "Threat actors:\n",
      " ['LuckyMouse', 'Mustang Panda', 'Gamaredon', 'Bahamut', 'CostaRicto', 'APT32', 'APT27', 'APT29', 'Lazarus/APT38', 'Promethium', 'HAFNIUM', 'Wizard Spider', 'Bitwise Spider', 'Carbon Spider', 'Pinchy Spider', 'Pioneer Kitten', 'Deus', 'BlackShadow', 'Moses Staff', 'Nemesis Kitten', 'Wicked Panda', 'Doppel Spider', 'Aquatic Panda', 'Fancy Bear', 'Cozy Bear', 'nei', 'barf', 'inthematrix1', 'UNC2452', 'Astro Locker Team', 'Hafnium', '', 'APT41', 'MuddyWater', 'ITG23', 'LemonDuck', 'Hive0088', 'Sodinokibi', 'Maze', 'APT28', 'Carbanak', 'Callisto Group', 'Sandworm', 'Energetic Bear', 'SoftCell', 'APT15', 'APT40', 'APT38', 'Lazarus', 'Konni', 'Andariel', 'Tortoiseshell', 'Charming Kitten', 'Fox Kitten Parasite', 'ControlX', 'APT5', 'APT31', 'Sea Turtle', 'Kimsuky', 'MuddyWater,APT33,APT35,APT41', 'Dark Hotel', 'Venomous Bear', 'Earth Lusca', 'Earth Berberoka', 'TeamTNT', 'Kinsing Are', 'Outlaw', '8220', 'Kek Security', 'Water Pamola', 'Earth Wendigo', 'Earth Vetala', 'Iron Tiger', 'PlugX']\n"
     ]
    }
   ],
   "source": [
    "# Build the lists\n",
    "threatlist = []\n",
    "actorlist = []\n",
    "\n",
    "for index, row in reports.iterrows():\n",
    "    threats = row['threats']\n",
    "    if not pd.isna(threats):\n",
    "        for threat in threats.split(\", \"):\n",
    "            if threat not in threatlist and threat != \"\":\n",
    "                threatlist.append(threat)\n",
    "\n",
    "    actors = row['actors']\n",
    "    if not pd.isna(actors):\n",
    "        for actor in actors.split(\", \"):\n",
    "            if actor not in actorlist:\n",
    "                actorlist.append(actor)\n",
    "\n",
    "print(\"Threats:\\n\",threatlist)\n",
    "print(\"Threat actors:\\n\",actorlist)"
   ]
  },
  {
   "attachments": {},
   "cell_type": "markdown",
   "metadata": {},
   "source": [
    "### PDF Scanner"
   ]
  },
  {
   "attachments": {},
   "cell_type": "markdown",
   "metadata": {},
   "source": [
    "#### Init dictionaries"
   ]
  },
  {
   "cell_type": "code",
   "execution_count": 59,
   "metadata": {},
   "outputs": [],
   "source": [
    "import PyPDF2\n",
    "import os\n",
    "\n",
    "report_folder = r\"C:\\Users\\a.winters\\NextCloud\\Documents\\Thesis\\RQ1\\Threat reports\"\n",
    "test_file = \"Bugcrowd-Priority One Report 2022 Edition.pdf\"\n",
    "report_list = [file for file in os.listdir(report_folder) if file.endswith(\".pdf\")]\n",
    "\n",
    "## Init threat dictionary to count occurences of threats per report\n",
    "report_dict = {}  \n",
    "for i in report_list:\n",
    "    threat_dict = {}\n",
    "    for j in threatlist:\n",
    "        threat_dict[j] = 0\n",
    "    report_dict[i] = threat_dict\n"
   ]
  },
  {
   "cell_type": "code",
   "execution_count": 63,
   "metadata": {},
   "outputs": [
    {
     "name": "stderr",
     "output_type": "stream",
     "text": [
      "Xref table not zero-indexed. ID numbers for objects will be corrected.\n"
     ]
    },
    {
     "name": "stdout",
     "output_type": "stream",
     "text": [
      "Processing:  Blackberry-report-bb-2021-threat-report.pdf\n"
     ]
    },
    {
     "name": "stderr",
     "output_type": "stream",
     "text": [
      "Xref table not zero-indexed. ID numbers for objects will be corrected.\n"
     ]
    },
    {
     "name": "stdout",
     "output_type": "stream",
     "text": [
      "Processing:  Blackberry-report-bb-2022-threat-report.pdf\n"
     ]
    },
    {
     "name": "stderr",
     "output_type": "stream",
     "text": [
      "Xref table not zero-indexed. ID numbers for objects will be corrected.\n"
     ]
    },
    {
     "name": "stdout",
     "output_type": "stream",
     "text": [
      "Processing:  Bugcrowd-Priority One Report 2022 Edition.pdf\n"
     ]
    },
    {
     "name": "stderr",
     "output_type": "stream",
     "text": [
      "Xref table not zero-indexed. ID numbers for objects will be corrected.\n"
     ]
    },
    {
     "name": "stdout",
     "output_type": "stream",
     "text": [
      "Processing:  Crowdstrike-Report2021ThreatHunting.pdf\n"
     ]
    },
    {
     "name": "stderr",
     "output_type": "stream",
     "text": [
      "Xref table not zero-indexed. ID numbers for objects will be corrected.\n"
     ]
    },
    {
     "name": "stdout",
     "output_type": "stream",
     "text": [
      "Processing:  Crowdstrike-Report2022GTR.pdf\n"
     ]
    },
    {
     "name": "stderr",
     "output_type": "stream",
     "text": [
      "Xref table not zero-indexed. ID numbers for objects will be corrected.\n"
     ]
    },
    {
     "name": "stdout",
     "output_type": "stream",
     "text": [
      "Processing:  cyberark-2022-identity-security-threat-landscape-report.pdf\n"
     ]
    },
    {
     "name": "stderr",
     "output_type": "stream",
     "text": [
      "Xref table not zero-indexed. ID numbers for objects will be corrected.\n"
     ]
    },
    {
     "name": "stdout",
     "output_type": "stream",
     "text": [
      "Processing:  CyberEdge-2020-CDR-Report-v1.0.pdf\n"
     ]
    },
    {
     "name": "stderr",
     "output_type": "stream",
     "text": [
      "Xref table not zero-indexed. ID numbers for objects will be corrected.\n"
     ]
    },
    {
     "name": "stdout",
     "output_type": "stream",
     "text": [
      "Processing:  deepwatch-22-Prospect-Deepwatch-Threat-Intelligence-Report.pdf\n",
      "Processing:  ENISA Threat Landscape 2022.pdf\n",
      "Processing:  IBM-X-Force Threat Intelligence Index 2022 Full Report.pdf\n"
     ]
    },
    {
     "name": "stderr",
     "output_type": "stream",
     "text": [
      "Xref table not zero-indexed. ID numbers for objects will be corrected.\n"
     ]
    },
    {
     "name": "stdout",
     "output_type": "stream",
     "text": [
      "Processing:  PaloAltoNetworks-2022-unit42-incident-response-report-final.pdf\n"
     ]
    },
    {
     "name": "stderr",
     "output_type": "stream",
     "text": [
      "Xref table not zero-indexed. ID numbers for objects will be corrected.\n"
     ]
    },
    {
     "name": "stdout",
     "output_type": "stream",
     "text": [
      "Processing:  PaloAltoNetworks-2022-unit42-ransomware-threat-report-final.pdf\n"
     ]
    },
    {
     "name": "stderr",
     "output_type": "stream",
     "text": [
      "Xref table not zero-indexed. ID numbers for objects will be corrected.\n"
     ]
    },
    {
     "name": "stdout",
     "output_type": "stream",
     "text": [
      "Processing:  Rapid7 2021 Vulnerability Intelligence Report.pdf\n",
      "Processing:  Verizon-2020-data-breach-investigations-report.pdf\n",
      "Processing:  Verizon-2021-data-breach-investigations-report.pdf\n",
      "Processing:  Verizon-2022-data-breach-investigations-report-dbir.pdf\n"
     ]
    },
    {
     "data": {
      "text/html": [
       "<div>\n",
       "<style scoped>\n",
       "    .dataframe tbody tr th:only-of-type {\n",
       "        vertical-align: middle;\n",
       "    }\n",
       "\n",
       "    .dataframe tbody tr th {\n",
       "        vertical-align: top;\n",
       "    }\n",
       "\n",
       "    .dataframe thead th {\n",
       "        text-align: right;\n",
       "    }\n",
       "</style>\n",
       "<table border=\"1\" class=\"dataframe\">\n",
       "  <thead>\n",
       "    <tr style=\"text-align: right;\">\n",
       "      <th></th>\n",
       "      <th>Blackberry-report-bb-2021-threat-report.pdf</th>\n",
       "      <th>Blackberry-report-bb-2022-threat-report.pdf</th>\n",
       "      <th>Bugcrowd-Priority One Report 2022 Edition.pdf</th>\n",
       "      <th>Crowdstrike-Report2021ThreatHunting.pdf</th>\n",
       "      <th>Crowdstrike-Report2022GTR.pdf</th>\n",
       "      <th>cyberark-2022-identity-security-threat-landscape-report.pdf</th>\n",
       "      <th>CyberEdge-2020-CDR-Report-v1.0.pdf</th>\n",
       "      <th>deepwatch-22-Prospect-Deepwatch-Threat-Intelligence-Report.pdf</th>\n",
       "      <th>ENISA Threat Landscape 2022.pdf</th>\n",
       "      <th>IBM-X-Force Threat Intelligence Index 2022 Full Report.pdf</th>\n",
       "      <th>PaloAltoNetworks-2022-unit42-incident-response-report-final.pdf</th>\n",
       "      <th>PaloAltoNetworks-2022-unit42-ransomware-threat-report-final.pdf</th>\n",
       "      <th>Rapid7 2021 Vulnerability Intelligence Report.pdf</th>\n",
       "      <th>Verizon-2020-data-breach-investigations-report.pdf</th>\n",
       "      <th>Verizon-2021-data-breach-investigations-report.pdf</th>\n",
       "      <th>Verizon-2022-data-breach-investigations-report-dbir.pdf</th>\n",
       "    </tr>\n",
       "  </thead>\n",
       "  <tbody>\n",
       "    <tr>\n",
       "      <th>ransomware</th>\n",
       "      <td>17</td>\n",
       "      <td>20</td>\n",
       "      <td>8</td>\n",
       "      <td>7</td>\n",
       "      <td>12</td>\n",
       "      <td>7</td>\n",
       "      <td>6</td>\n",
       "      <td>2</td>\n",
       "      <td>48</td>\n",
       "      <td>32</td>\n",
       "      <td>18</td>\n",
       "      <td>36</td>\n",
       "      <td>12</td>\n",
       "      <td>18</td>\n",
       "      <td>14</td>\n",
       "      <td>19</td>\n",
       "    </tr>\n",
       "    <tr>\n",
       "      <th>crypto malware</th>\n",
       "      <td>0</td>\n",
       "      <td>0</td>\n",
       "      <td>0</td>\n",
       "      <td>0</td>\n",
       "      <td>0</td>\n",
       "      <td>0</td>\n",
       "      <td>0</td>\n",
       "      <td>0</td>\n",
       "      <td>0</td>\n",
       "      <td>0</td>\n",
       "      <td>0</td>\n",
       "      <td>0</td>\n",
       "      <td>0</td>\n",
       "      <td>0</td>\n",
       "      <td>0</td>\n",
       "      <td>0</td>\n",
       "    </tr>\n",
       "    <tr>\n",
       "      <th>scams</th>\n",
       "      <td>4</td>\n",
       "      <td>0</td>\n",
       "      <td>0</td>\n",
       "      <td>0</td>\n",
       "      <td>0</td>\n",
       "      <td>0</td>\n",
       "      <td>0</td>\n",
       "      <td>0</td>\n",
       "      <td>4</td>\n",
       "      <td>0</td>\n",
       "      <td>2</td>\n",
       "      <td>0</td>\n",
       "      <td>0</td>\n",
       "      <td>1</td>\n",
       "      <td>0</td>\n",
       "      <td>2</td>\n",
       "    </tr>\n",
       "    <tr>\n",
       "      <th>adware</th>\n",
       "      <td>0</td>\n",
       "      <td>0</td>\n",
       "      <td>0</td>\n",
       "      <td>0</td>\n",
       "      <td>0</td>\n",
       "      <td>0</td>\n",
       "      <td>0</td>\n",
       "      <td>0</td>\n",
       "      <td>4</td>\n",
       "      <td>3</td>\n",
       "      <td>0</td>\n",
       "      <td>0</td>\n",
       "      <td>0</td>\n",
       "      <td>0</td>\n",
       "      <td>0</td>\n",
       "      <td>0</td>\n",
       "    </tr>\n",
       "    <tr>\n",
       "      <th>fleeceware</th>\n",
       "      <td>0</td>\n",
       "      <td>0</td>\n",
       "      <td>0</td>\n",
       "      <td>0</td>\n",
       "      <td>0</td>\n",
       "      <td>0</td>\n",
       "      <td>0</td>\n",
       "      <td>0</td>\n",
       "      <td>0</td>\n",
       "      <td>0</td>\n",
       "      <td>0</td>\n",
       "      <td>0</td>\n",
       "      <td>0</td>\n",
       "      <td>0</td>\n",
       "      <td>0</td>\n",
       "      <td>0</td>\n",
       "    </tr>\n",
       "    <tr>\n",
       "      <th>...</th>\n",
       "      <td>...</td>\n",
       "      <td>...</td>\n",
       "      <td>...</td>\n",
       "      <td>...</td>\n",
       "      <td>...</td>\n",
       "      <td>...</td>\n",
       "      <td>...</td>\n",
       "      <td>...</td>\n",
       "      <td>...</td>\n",
       "      <td>...</td>\n",
       "      <td>...</td>\n",
       "      <td>...</td>\n",
       "      <td>...</td>\n",
       "      <td>...</td>\n",
       "      <td>...</td>\n",
       "      <td>...</td>\n",
       "    </tr>\n",
       "    <tr>\n",
       "      <th>trojan</th>\n",
       "      <td>12</td>\n",
       "      <td>5</td>\n",
       "      <td>0</td>\n",
       "      <td>1</td>\n",
       "      <td>0</td>\n",
       "      <td>0</td>\n",
       "      <td>0</td>\n",
       "      <td>1</td>\n",
       "      <td>4</td>\n",
       "      <td>6</td>\n",
       "      <td>0</td>\n",
       "      <td>0</td>\n",
       "      <td>0</td>\n",
       "      <td>0</td>\n",
       "      <td>0</td>\n",
       "      <td>0</td>\n",
       "    </tr>\n",
       "    <tr>\n",
       "      <th>denial of service</th>\n",
       "      <td>0</td>\n",
       "      <td>0</td>\n",
       "      <td>0</td>\n",
       "      <td>0</td>\n",
       "      <td>0</td>\n",
       "      <td>0</td>\n",
       "      <td>1</td>\n",
       "      <td>0</td>\n",
       "      <td>5</td>\n",
       "      <td>1</td>\n",
       "      <td>1</td>\n",
       "      <td>1</td>\n",
       "      <td>1</td>\n",
       "      <td>1</td>\n",
       "      <td>0</td>\n",
       "      <td>0</td>\n",
       "    </tr>\n",
       "    <tr>\n",
       "      <th>loss</th>\n",
       "      <td>2</td>\n",
       "      <td>2</td>\n",
       "      <td>0</td>\n",
       "      <td>0</td>\n",
       "      <td>0</td>\n",
       "      <td>1</td>\n",
       "      <td>7</td>\n",
       "      <td>0</td>\n",
       "      <td>11</td>\n",
       "      <td>1</td>\n",
       "      <td>2</td>\n",
       "      <td>1</td>\n",
       "      <td>3</td>\n",
       "      <td>4</td>\n",
       "      <td>11</td>\n",
       "      <td>5</td>\n",
       "    </tr>\n",
       "    <tr>\n",
       "      <th>misconficuration</th>\n",
       "      <td>0</td>\n",
       "      <td>0</td>\n",
       "      <td>0</td>\n",
       "      <td>0</td>\n",
       "      <td>0</td>\n",
       "      <td>0</td>\n",
       "      <td>0</td>\n",
       "      <td>0</td>\n",
       "      <td>0</td>\n",
       "      <td>0</td>\n",
       "      <td>0</td>\n",
       "      <td>0</td>\n",
       "      <td>0</td>\n",
       "      <td>0</td>\n",
       "      <td>0</td>\n",
       "      <td>0</td>\n",
       "    </tr>\n",
       "    <tr>\n",
       "      <th>password dumper</th>\n",
       "      <td>0</td>\n",
       "      <td>0</td>\n",
       "      <td>0</td>\n",
       "      <td>0</td>\n",
       "      <td>0</td>\n",
       "      <td>0</td>\n",
       "      <td>0</td>\n",
       "      <td>0</td>\n",
       "      <td>0</td>\n",
       "      <td>0</td>\n",
       "      <td>0</td>\n",
       "      <td>0</td>\n",
       "      <td>0</td>\n",
       "      <td>2</td>\n",
       "      <td>0</td>\n",
       "      <td>0</td>\n",
       "    </tr>\n",
       "  </tbody>\n",
       "</table>\n",
       "<p>62 rows × 16 columns</p>\n",
       "</div>"
      ],
      "text/plain": [
       "                   Blackberry-report-bb-2021-threat-report.pdf  \\\n",
       "ransomware                                                  17   \n",
       "crypto malware                                               0   \n",
       "scams                                                        4   \n",
       "adware                                                       0   \n",
       "fleeceware                                                   0   \n",
       "...                                                        ...   \n",
       "trojan                                                      12   \n",
       "denial of service                                            0   \n",
       "loss                                                         2   \n",
       "misconficuration                                             0   \n",
       "password dumper                                              0   \n",
       "\n",
       "                   Blackberry-report-bb-2022-threat-report.pdf  \\\n",
       "ransomware                                                  20   \n",
       "crypto malware                                               0   \n",
       "scams                                                        0   \n",
       "adware                                                       0   \n",
       "fleeceware                                                   0   \n",
       "...                                                        ...   \n",
       "trojan                                                       5   \n",
       "denial of service                                            0   \n",
       "loss                                                         2   \n",
       "misconficuration                                             0   \n",
       "password dumper                                              0   \n",
       "\n",
       "                   Bugcrowd-Priority One Report 2022 Edition.pdf  \\\n",
       "ransomware                                                     8   \n",
       "crypto malware                                                 0   \n",
       "scams                                                          0   \n",
       "adware                                                         0   \n",
       "fleeceware                                                     0   \n",
       "...                                                          ...   \n",
       "trojan                                                         0   \n",
       "denial of service                                              0   \n",
       "loss                                                           0   \n",
       "misconficuration                                               0   \n",
       "password dumper                                                0   \n",
       "\n",
       "                   Crowdstrike-Report2021ThreatHunting.pdf  \\\n",
       "ransomware                                               7   \n",
       "crypto malware                                           0   \n",
       "scams                                                    0   \n",
       "adware                                                   0   \n",
       "fleeceware                                               0   \n",
       "...                                                    ...   \n",
       "trojan                                                   1   \n",
       "denial of service                                        0   \n",
       "loss                                                     0   \n",
       "misconficuration                                         0   \n",
       "password dumper                                          0   \n",
       "\n",
       "                   Crowdstrike-Report2022GTR.pdf  \\\n",
       "ransomware                                    12   \n",
       "crypto malware                                 0   \n",
       "scams                                          0   \n",
       "adware                                         0   \n",
       "fleeceware                                     0   \n",
       "...                                          ...   \n",
       "trojan                                         0   \n",
       "denial of service                              0   \n",
       "loss                                           0   \n",
       "misconficuration                               0   \n",
       "password dumper                                0   \n",
       "\n",
       "                   cyberark-2022-identity-security-threat-landscape-report.pdf  \\\n",
       "ransomware                                                         7             \n",
       "crypto malware                                                     0             \n",
       "scams                                                              0             \n",
       "adware                                                             0             \n",
       "fleeceware                                                         0             \n",
       "...                                                              ...             \n",
       "trojan                                                             0             \n",
       "denial of service                                                  0             \n",
       "loss                                                               1             \n",
       "misconficuration                                                   0             \n",
       "password dumper                                                    0             \n",
       "\n",
       "                   CyberEdge-2020-CDR-Report-v1.0.pdf  \\\n",
       "ransomware                                          6   \n",
       "crypto malware                                      0   \n",
       "scams                                               0   \n",
       "adware                                              0   \n",
       "fleeceware                                          0   \n",
       "...                                               ...   \n",
       "trojan                                              0   \n",
       "denial of service                                   1   \n",
       "loss                                                7   \n",
       "misconficuration                                    0   \n",
       "password dumper                                     0   \n",
       "\n",
       "                   deepwatch-22-Prospect-Deepwatch-Threat-Intelligence-Report.pdf  \\\n",
       "ransomware                                                         2                \n",
       "crypto malware                                                     0                \n",
       "scams                                                              0                \n",
       "adware                                                             0                \n",
       "fleeceware                                                         0                \n",
       "...                                                              ...                \n",
       "trojan                                                             1                \n",
       "denial of service                                                  0                \n",
       "loss                                                               0                \n",
       "misconficuration                                                   0                \n",
       "password dumper                                                    0                \n",
       "\n",
       "                   ENISA Threat Landscape 2022.pdf  \\\n",
       "ransomware                                      48   \n",
       "crypto malware                                   0   \n",
       "scams                                            4   \n",
       "adware                                           4   \n",
       "fleeceware                                       0   \n",
       "...                                            ...   \n",
       "trojan                                           4   \n",
       "denial of service                                5   \n",
       "loss                                            11   \n",
       "misconficuration                                 0   \n",
       "password dumper                                  0   \n",
       "\n",
       "                   IBM-X-Force Threat Intelligence Index 2022 Full Report.pdf  \\\n",
       "ransomware                                                        32            \n",
       "crypto malware                                                     0            \n",
       "scams                                                              0            \n",
       "adware                                                             3            \n",
       "fleeceware                                                         0            \n",
       "...                                                              ...            \n",
       "trojan                                                             6            \n",
       "denial of service                                                  1            \n",
       "loss                                                               1            \n",
       "misconficuration                                                   0            \n",
       "password dumper                                                    0            \n",
       "\n",
       "                   PaloAltoNetworks-2022-unit42-incident-response-report-final.pdf  \\\n",
       "ransomware                                                        18                 \n",
       "crypto malware                                                     0                 \n",
       "scams                                                              2                 \n",
       "adware                                                             0                 \n",
       "fleeceware                                                         0                 \n",
       "...                                                              ...                 \n",
       "trojan                                                             0                 \n",
       "denial of service                                                  1                 \n",
       "loss                                                               2                 \n",
       "misconficuration                                                   0                 \n",
       "password dumper                                                    0                 \n",
       "\n",
       "                   PaloAltoNetworks-2022-unit42-ransomware-threat-report-final.pdf  \\\n",
       "ransomware                                                        36                 \n",
       "crypto malware                                                     0                 \n",
       "scams                                                              0                 \n",
       "adware                                                             0                 \n",
       "fleeceware                                                         0                 \n",
       "...                                                              ...                 \n",
       "trojan                                                             0                 \n",
       "denial of service                                                  1                 \n",
       "loss                                                               1                 \n",
       "misconficuration                                                   0                 \n",
       "password dumper                                                    0                 \n",
       "\n",
       "                   Rapid7 2021 Vulnerability Intelligence Report.pdf  \\\n",
       "ransomware                                                        12   \n",
       "crypto malware                                                     0   \n",
       "scams                                                              0   \n",
       "adware                                                             0   \n",
       "fleeceware                                                         0   \n",
       "...                                                              ...   \n",
       "trojan                                                             0   \n",
       "denial of service                                                  1   \n",
       "loss                                                               3   \n",
       "misconficuration                                                   0   \n",
       "password dumper                                                    0   \n",
       "\n",
       "                   Verizon-2020-data-breach-investigations-report.pdf  \\\n",
       "ransomware                                                        18    \n",
       "crypto malware                                                     0    \n",
       "scams                                                              1    \n",
       "adware                                                             0    \n",
       "fleeceware                                                         0    \n",
       "...                                                              ...    \n",
       "trojan                                                             0    \n",
       "denial of service                                                  1    \n",
       "loss                                                               4    \n",
       "misconficuration                                                   0    \n",
       "password dumper                                                    2    \n",
       "\n",
       "                   Verizon-2021-data-breach-investigations-report.pdf  \\\n",
       "ransomware                                                        14    \n",
       "crypto malware                                                     0    \n",
       "scams                                                              0    \n",
       "adware                                                             0    \n",
       "fleeceware                                                         0    \n",
       "...                                                              ...    \n",
       "trojan                                                             0    \n",
       "denial of service                                                  0    \n",
       "loss                                                              11    \n",
       "misconficuration                                                   0    \n",
       "password dumper                                                    0    \n",
       "\n",
       "                   Verizon-2022-data-breach-investigations-report-dbir.pdf  \n",
       "ransomware                                                        19        \n",
       "crypto malware                                                     0        \n",
       "scams                                                              2        \n",
       "adware                                                             0        \n",
       "fleeceware                                                         0        \n",
       "...                                                              ...        \n",
       "trojan                                                             0        \n",
       "denial of service                                                  0        \n",
       "loss                                                               5        \n",
       "misconficuration                                                   0        \n",
       "password dumper                                                    0        \n",
       "\n",
       "[62 rows x 16 columns]"
      ]
     },
     "metadata": {},
     "output_type": "display_data"
    }
   ],
   "source": [
    "\n",
    "# Iterate over PDFs in the folder\n",
    "for file in report_list:\n",
    "     # if file != test_file:\n",
    "     #      continue\n",
    "     print(\"Processing: \",file)\n",
    "     search_term = threatlist[0]\n",
    "\n",
    "     reader = PyPDF2.PdfFileReader(report_folder+\"\\\\\"+file)\n",
    "     for page_number in range(0, reader.numPages):\n",
    "          page = reader.getPage(page_number)\n",
    "          page_content = page.extractText()\n",
    "          for search_term in threatlist:\n",
    "               if search_term in page_content:\n",
    "                    report_dict[file][search_term] += 1\n",
    "\n",
    "df = pd.DataFrame(report_dict)\n",
    "display(df)"
   ]
  },
  {
   "attachments": {},
   "cell_type": "markdown",
   "metadata": {},
   "source": [
    "## Display statistics"
   ]
  },
  {
   "cell_type": "code",
   "execution_count": 90,
   "metadata": {},
   "outputs": [
    {
     "data": {
      "text/plain": [
       "<AxesSubplot:>"
      ]
     },
     "execution_count": 90,
     "metadata": {},
     "output_type": "execute_result"
    },
    {
     "data": {
      "image/png": "[encoded data removed]",
      "text/plain": [
       "<Figure size 640x480 with 1 Axes>"
      ]
     },
     "metadata": {},
     "output_type": "display_data"
    }
   ],
   "source": [
    "import matplotlib.pyplot as plt\n",
    "import numpy as np\n",
    "\n",
    "threat_occurences = df.gt(0).sum(axis=1)\n",
    "threat_occurences.sort_values(inplace=True)\n",
    "\n",
    "# Plot\n",
    "threat_occurences.nlargest(10).plot(kind=\"bar\")\n"
   ]
  },
  {
   "cell_type": "code",
   "execution_count": 78,
   "metadata": {},
   "outputs": [
    {
     "data": {
      "text/plain": [
       "1101"
      ]
     },
     "execution_count": 78,
     "metadata": {},
     "output_type": "execute_result"
    }
   ],
   "source": [
    "threat_totals[threat_totals>0].count()"
   ]
  }
 ],
 "metadata": {
  "kernelspec": {
   "display_name": "base",
   "language": "python",
   "name": "python3"
  },
  "language_info": {
   "codemirror_mode": {
    "name": "ipython",
    "version": 3
   },
   "file_extension": ".py",
   "mimetype": "text/x-python",
   "name": "python",
   "nbconvert_exporter": "python",
   "pygments_lexer": "ipython3",
   "version": "3.9.13"
  },
  "orig_nbformat": 4,
  "vscode": {
   "interpreter": {
    "hash": "fefc25d8fb2c87e371a11893aec4d5cf8450c56c13fd415e10bba8aac80dc75c"
   }
  }
 },
 "nbformat": 4,
 "nbformat_minor": 2
}
