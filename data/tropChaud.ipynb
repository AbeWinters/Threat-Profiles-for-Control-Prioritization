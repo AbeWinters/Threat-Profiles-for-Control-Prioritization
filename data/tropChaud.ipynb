{
 "cells": [
  {
   "attachments": {},
   "cell_type": "markdown",
   "metadata": {},
   "source": [
    "# Checking the ETDA -> ATT&CK merge"
   ]
  },
  {
   "cell_type": "code",
   "execution_count": 1,
   "metadata": {},
   "outputs": [
    {
     "name": "stdout",
     "output_type": "stream",
     "text": [
      "Index(['mitre_attack_id', 'mitre_attack_name', 'mitre_attack_aliases',\n",
      "       'mitre_attack_created', 'mitre_attack_last_modified', 'mitre_url',\n",
      "       'etda_id', 'etda_name', 'etda_aliases', 'etda_first_seen', 'etda_url',\n",
      "       'etda_operation_dates', 'etda_operation_year', 'country', 'motivation',\n",
      "       'victim_industries', 'victim_countries', 'mitre_attack_ttps'],\n",
      "      dtype='object')\n"
     ]
    }
   ],
   "source": [
    "import pandas as pd\n",
    "\n",
    "df = pd.read_json('ETDA_ATTCK_merge.json')\n",
    "print(df.columns)"
   ]
  },
  {
   "cell_type": "code",
   "execution_count": 2,
   "metadata": {},
   "outputs": [
    {
     "data": {
      "text/plain": [
       "APT 29, Cozy Bear, The Dukes              2\n",
       "Lotus Blossom, Spring Dragon, Thrip       2\n",
       "DarkHotel                                 2\n",
       "OilRig, APT 34, Helix Kitten, Chrysene    2\n",
       "APT 19, Deep Panda, C0d0so0               2\n",
       "                                         ..\n",
       "Poisonous Panda                           1\n",
       "ParkingBear                               1\n",
       "Pale Panda                                1\n",
       "Overlord Spider                           1\n",
       "Zombie Spider                             1\n",
       "Name: etda_name, Length: 448, dtype: int64"
      ]
     },
     "execution_count": 2,
     "metadata": {},
     "output_type": "execute_result"
    }
   ],
   "source": [
    "df['etda_name'].value_counts()"
   ]
  },
  {
   "attachments": {},
   "cell_type": "markdown",
   "metadata": {},
   "source": [
    "## Functions to help access the data"
   ]
  },
  {
   "cell_type": "code",
   "execution_count": 3,
   "metadata": {},
   "outputs": [],
   "source": [
    "def get_actor_ETDA(actor):\n",
    "   return df.loc[df['etda_name'] == actor]\n",
    "\n",
    "def get_actor_list_ETDA(actor_list):\n",
    "   return df.loc[df['etda_name'].isin(actor_list)]\n",
    "\n",
    "def to_1D(series):\n",
    " return pd.Series([x for _list in series for x in _list if len(x) > 1]) # Convert column of lists to one list and remove single character values\n",
    "\n",
    "def get_industries():\n",
    "    return to_1D(df['victim_industries']).value_counts().index.to_list()\n"
   ]
  },
  {
   "cell_type": "code",
   "execution_count": 4,
   "metadata": {},
   "outputs": [
    {
     "data": {
      "text/html": [
       "<div>\n",
       "<style scoped>\n",
       "    .dataframe tbody tr th:only-of-type {\n",
       "        vertical-align: middle;\n",
       "    }\n",
       "\n",
       "    .dataframe tbody tr th {\n",
       "        vertical-align: top;\n",
       "    }\n",
       "\n",
       "    .dataframe thead th {\n",
       "        text-align: right;\n",
       "    }\n",
       "</style>\n",
       "<table border=\"1\" class=\"dataframe\">\n",
       "  <thead>\n",
       "    <tr style=\"text-align: right;\">\n",
       "      <th></th>\n",
       "      <th>mitre_attack_id</th>\n",
       "      <th>mitre_attack_name</th>\n",
       "      <th>mitre_attack_aliases</th>\n",
       "      <th>mitre_attack_created</th>\n",
       "      <th>mitre_attack_last_modified</th>\n",
       "      <th>mitre_url</th>\n",
       "      <th>etda_id</th>\n",
       "      <th>etda_name</th>\n",
       "      <th>etda_aliases</th>\n",
       "      <th>etda_first_seen</th>\n",
       "      <th>etda_url</th>\n",
       "      <th>etda_operation_dates</th>\n",
       "      <th>etda_operation_year</th>\n",
       "      <th>country</th>\n",
       "      <th>motivation</th>\n",
       "      <th>victim_industries</th>\n",
       "      <th>victim_countries</th>\n",
       "      <th>mitre_attack_ttps</th>\n",
       "    </tr>\n",
       "  </thead>\n",
       "  <tbody>\n",
       "    <tr>\n",
       "      <th>0</th>\n",
       "      <td>intrusion-set--899ce53f-13a0-479b-a0e4-67d46e2...</td>\n",
       "      <td>APT29</td>\n",
       "      <td>[APT29, IRON RITUAL, IRON HEMLOCK, NobleBaron,...</td>\n",
       "      <td>2017-05-31</td>\n",
       "      <td>2023-04-16</td>\n",
       "      <td>https://attack.mitre.org/groups/G0016</td>\n",
       "      <td>93ba9804-335e-4782-855d-40af22b93201</td>\n",
       "      <td>APT 29, Cozy Bear, The Dukes</td>\n",
       "      <td>[APT 29, Cozy Bear, The Dukes, Group 100, Yttr...</td>\n",
       "      <td>2008</td>\n",
       "      <td>https://apt.etda.or.th/cgi-bin/showcard.cgi?u=...</td>\n",
       "      <td>[2013-02, 2013, 2013, 2014-03, 2015-08, 2016-0...</td>\n",
       "      <td>[2013, 2013, 2013, 2014, 2015, 2016, 2016, 201...</td>\n",
       "      <td>RU</td>\n",
       "      <td>[Information theft and espionage]</td>\n",
       "      <td>[Aerospace, Defense, Education, Energy, Financ...</td>\n",
       "      <td>[Australia, Azerbaijan, Belarus, Belgium, Braz...</td>\n",
       "      <td>[T1586.002, T1548.002, T1098.005, T1566.003, T...</td>\n",
       "    </tr>\n",
       "    <tr>\n",
       "      <th>61</th>\n",
       "      <td>intrusion-set--dc5e2999-ca1a-47d4-8d12-a6984b1...</td>\n",
       "      <td>UNC2452</td>\n",
       "      <td>[UNC2452, NOBELIUM, StellarParticle, Dark Halo]</td>\n",
       "      <td>2021-01-05</td>\n",
       "      <td>2021-05-04</td>\n",
       "      <td>https://attack.mitre.org/groups/G0118</td>\n",
       "      <td>93ba9804-335e-4782-855d-40af22b93201</td>\n",
       "      <td>APT 29, Cozy Bear, The Dukes</td>\n",
       "      <td>[APT 29, Cozy Bear, The Dukes, Group 100, Yttr...</td>\n",
       "      <td>2008</td>\n",
       "      <td>https://apt.etda.or.th/cgi-bin/showcard.cgi?u=...</td>\n",
       "      <td>[2013-02, 2013, 2013, 2014-03, 2015-08, 2016-0...</td>\n",
       "      <td>[2013, 2013, 2013, 2014, 2015, 2016, 2016, 201...</td>\n",
       "      <td>RU</td>\n",
       "      <td>[Information theft and espionage]</td>\n",
       "      <td>[Aerospace, Defense, Education, Energy, Financ...</td>\n",
       "      <td>[Australia, Azerbaijan, Belarus, Belgium, Braz...</td>\n",
       "      <td>[]</td>\n",
       "    </tr>\n",
       "  </tbody>\n",
       "</table>\n",
       "</div>"
      ],
      "text/plain": [
       "                                      mitre_attack_id mitre_attack_name  \\\n",
       "0   intrusion-set--899ce53f-13a0-479b-a0e4-67d46e2...             APT29   \n",
       "61  intrusion-set--dc5e2999-ca1a-47d4-8d12-a6984b1...           UNC2452   \n",
       "\n",
       "                                 mitre_attack_aliases mitre_attack_created  \\\n",
       "0   [APT29, IRON RITUAL, IRON HEMLOCK, NobleBaron,...           2017-05-31   \n",
       "61    [UNC2452, NOBELIUM, StellarParticle, Dark Halo]           2021-01-05   \n",
       "\n",
       "   mitre_attack_last_modified                              mitre_url  \\\n",
       "0                  2023-04-16  https://attack.mitre.org/groups/G0016   \n",
       "61                 2021-05-04  https://attack.mitre.org/groups/G0118   \n",
       "\n",
       "                                 etda_id                     etda_name  \\\n",
       "0   93ba9804-335e-4782-855d-40af22b93201  APT 29, Cozy Bear, The Dukes   \n",
       "61  93ba9804-335e-4782-855d-40af22b93201  APT 29, Cozy Bear, The Dukes   \n",
       "\n",
       "                                         etda_aliases etda_first_seen  \\\n",
       "0   [APT 29, Cozy Bear, The Dukes, Group 100, Yttr...            2008   \n",
       "61  [APT 29, Cozy Bear, The Dukes, Group 100, Yttr...            2008   \n",
       "\n",
       "                                             etda_url  \\\n",
       "0   https://apt.etda.or.th/cgi-bin/showcard.cgi?u=...   \n",
       "61  https://apt.etda.or.th/cgi-bin/showcard.cgi?u=...   \n",
       "\n",
       "                                 etda_operation_dates  \\\n",
       "0   [2013-02, 2013, 2013, 2014-03, 2015-08, 2016-0...   \n",
       "61  [2013-02, 2013, 2013, 2014-03, 2015-08, 2016-0...   \n",
       "\n",
       "                                  etda_operation_year country  \\\n",
       "0   [2013, 2013, 2013, 2014, 2015, 2016, 2016, 201...      RU   \n",
       "61  [2013, 2013, 2013, 2014, 2015, 2016, 2016, 201...      RU   \n",
       "\n",
       "                           motivation  \\\n",
       "0   [Information theft and espionage]   \n",
       "61  [Information theft and espionage]   \n",
       "\n",
       "                                    victim_industries  \\\n",
       "0   [Aerospace, Defense, Education, Energy, Financ...   \n",
       "61  [Aerospace, Defense, Education, Energy, Financ...   \n",
       "\n",
       "                                     victim_countries  \\\n",
       "0   [Australia, Azerbaijan, Belarus, Belgium, Braz...   \n",
       "61  [Australia, Azerbaijan, Belarus, Belgium, Braz...   \n",
       "\n",
       "                                    mitre_attack_ttps  \n",
       "0   [T1586.002, T1548.002, T1098.005, T1566.003, T...  \n",
       "61                                                 []  "
      ]
     },
     "execution_count": 4,
     "metadata": {},
     "output_type": "execute_result"
    }
   ],
   "source": [
    "get_actor_ETDA('APT 29, Cozy Bear, The Dukes')"
   ]
  },
  {
   "attachments": {},
   "cell_type": "markdown",
   "metadata": {},
   "source": [
    "# Statistics"
   ]
  },
  {
   "cell_type": "code",
   "execution_count": 6,
   "metadata": {},
   "outputs": [
    {
     "name": "stdout",
     "output_type": "stream",
     "text": [
      "Number of actors in data:\t 455\n",
      "Number of industries in data:\t 42\n",
      "\n",
      "Number of actors per industry:\n"
     ]
    },
    {
     "data": {
      "text/plain": [
       "Government                     192\n",
       "None Provided                  151\n",
       "Defense                        113\n",
       "Financial                      102\n",
       "Energy                          86\n",
       "Telecommunications              85\n",
       "Education                       73\n",
       "Media                           71\n",
       "Healthcare                      58\n",
       "Manufacturing                   52\n",
       "High-Tech                       37\n",
       "IT                              36\n",
       "Transportation                  34\n",
       "Technology                      34\n",
       "Aerospace                       29\n",
       "Aviation                        28\n",
       "Hospitality                     27\n",
       "Oil and gas                     26\n",
       "Engineering                     24\n",
       "Retail                          23\n",
       "Pharmaceutical                  23\n",
       "NGOs                            21\n",
       "Construction                    20\n",
       "Shipping and Logistics          18\n",
       "Think Tanks                     17\n",
       "Industrial                      16\n",
       "Embassies                       14\n",
       "Chemical                        13\n",
       "Utilities                       13\n",
       "Automotive                      12\n",
       "Food and Agriculture            12\n",
       "Research                        11\n",
       "Law enforcement                  9\n",
       "Non-profit organizations         8\n",
       "Casinos and Gambling             6\n",
       "Entertainment                    6\n",
       "Mining                           5\n",
       "Online video game companies      5\n",
       "Critical infrastructure          5\n",
       "Maritime and Shipbuilding        5\n",
       "Satellites                       4\n",
       "Petrochemical                    3\n",
       "Gaming                           3\n",
       "Name: victim_industries, dtype: int64"
      ]
     },
     "execution_count": 6,
     "metadata": {},
     "output_type": "execute_result"
    }
   ],
   "source": [
    "industries = get_industries()\n",
    "print(\"Number of actors in data:\\t\",len(df))\n",
    "print(\"Number of industries in data:\\t\",len(get_industries()))\n",
    "\n",
    "print('\\nNumber of actors per industry:')\n",
    "industries = df['victim_industries'].explode().value_counts()#.sort_index()\n",
    "industries\n",
    "# for industry in industries:\n",
    "#     print(industry)"
   ]
  },
  {
   "attachments": {},
   "cell_type": "markdown",
   "metadata": {},
   "source": [
    "#### Explanations"
   ]
  }
 ],
 "metadata": {
  "kernelspec": {
   "display_name": "base",
   "language": "python",
   "name": "python3"
  },
  "language_info": {
   "codemirror_mode": {
    "name": "ipython",
    "version": 3
   },
   "file_extension": ".py",
   "mimetype": "text/x-python",
   "name": "python",
   "nbconvert_exporter": "python",
   "pygments_lexer": "ipython3",
   "version": "3.9.13"
  },
  "orig_nbformat": 4,
  "vscode": {
   "interpreter": {
    "hash": "fefc25d8fb2c87e371a11893aec4d5cf8450c56c13fd415e10bba8aac80dc75c"
   }
  }
 },
 "nbformat": 4,
 "nbformat_minor": 2
}
