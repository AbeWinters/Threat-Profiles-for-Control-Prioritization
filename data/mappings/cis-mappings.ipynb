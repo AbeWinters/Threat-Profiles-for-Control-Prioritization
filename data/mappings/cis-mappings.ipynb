{
 "cells": [
  {
   "attachments": {},
   "cell_type": "markdown",
   "metadata": {},
   "source": [
    "# Mappings around CIS Controls\n",
    "The [CIS Controls](https://www.cisecurity.org/controls_pre) are a set of best practices for defending against cyber attacks. The controls are practical and are [mapped](https://www.cisecurity.org/controls/cis-controls-navigator/) to and from popular standards like ISO 27001, NIST SP-800 53 and NIST CSF.\n",
    "\n",
    "In this notebook these mappings are leveraged to provide a basic mapping from MITRE ATT&CK towards these other frameworks, like ISO 27001. At the time of writing, there exists no publicly available mapping from MITRE ATT&CK to ISO 27001, hence this approach. While it is not the optimal approach, and a dedicated mapping would be more accurate, this method is a starting point."
   ]
  },
  {
   "cell_type": "code",
   "execution_count": 1,
   "metadata": {},
   "outputs": [],
   "source": [
    "import pandas as pd\n",
    "\n",
    "EXPORT = False\n",
    "\n",
    "def get_cis_attck_mapping():\n",
    "    cis_attck_mapping = pd.read_excel(\"CIS_Controls_v8_ATTCKv82_condensed.xlsx\")\n",
    "    cis_attck_mapping = cis_attck_mapping.drop([\"CIS Controls v8\",\"CIS Controls\",\"Asset Type\"],axis=1)\n",
    "    cis_attck_mapping['Technique ID'] = cis_attck_mapping['Technique ID'].str.split(', ')\n",
    "    return cis_attck_mapping.explode('Technique ID')"
   ]
  },
  {
   "cell_type": "code",
   "execution_count": 6,
   "metadata": {},
   "outputs": [
    {
     "name": "stdout",
     "output_type": "stream",
     "text": [
      "Number of mappings: 2962\n",
      "Number of TTPs: 383\n"
     ]
    },
    {
     "data": {
      "text/html": [
       "<div>\n",
       "<style scoped>\n",
       "    .dataframe tbody tr th:only-of-type {\n",
       "        vertical-align: middle;\n",
       "    }\n",
       "\n",
       "    .dataframe tbody tr th {\n",
       "        vertical-align: top;\n",
       "    }\n",
       "\n",
       "    .dataframe thead th {\n",
       "        text-align: right;\n",
       "    }\n",
       "</style>\n",
       "<table border=\"1\" class=\"dataframe\">\n",
       "  <thead>\n",
       "    <tr style=\"text-align: right;\">\n",
       "      <th></th>\n",
       "      <th>Control ID</th>\n",
       "      <th>Control Name</th>\n",
       "      <th>Description</th>\n",
       "      <th>Technique ID</th>\n",
       "    </tr>\n",
       "  </thead>\n",
       "  <tbody>\n",
       "    <tr>\n",
       "      <th>0</th>\n",
       "      <td>1.1</td>\n",
       "      <td>Establish and Maintain Detailed Enterprise Ass...</td>\n",
       "      <td>Establish and maintain an accurate, detailed, ...</td>\n",
       "      <td>T1200</td>\n",
       "    </tr>\n",
       "    <tr>\n",
       "      <th>1</th>\n",
       "      <td>1.2</td>\n",
       "      <td>Address Unauthorized Assets</td>\n",
       "      <td>Ensure that a process exists to address unauth...</td>\n",
       "      <td>T1200</td>\n",
       "    </tr>\n",
       "    <tr>\n",
       "      <th>2</th>\n",
       "      <td>1.4</td>\n",
       "      <td>Use Dynamic Host Configuration Protocol (DHCP)...</td>\n",
       "      <td>Use DHCP logging on all DHCP servers or Intern...</td>\n",
       "      <td>T1200</td>\n",
       "    </tr>\n",
       "    <tr>\n",
       "      <th>3</th>\n",
       "      <td>2.1</td>\n",
       "      <td>Establish and Maintain a Software Inventory</td>\n",
       "      <td>Establish and maintain a detailed inventory of...</td>\n",
       "      <td>T1560</td>\n",
       "    </tr>\n",
       "    <tr>\n",
       "      <th>3</th>\n",
       "      <td>2.1</td>\n",
       "      <td>Establish and Maintain a Software Inventory</td>\n",
       "      <td>Establish and maintain a detailed inventory of...</td>\n",
       "      <td>T1560.001</td>\n",
       "    </tr>\n",
       "    <tr>\n",
       "      <th>...</th>\n",
       "      <td>...</td>\n",
       "      <td>...</td>\n",
       "      <td>...</td>\n",
       "      <td>...</td>\n",
       "    </tr>\n",
       "    <tr>\n",
       "      <th>104</th>\n",
       "      <td>18.5</td>\n",
       "      <td>Perform Periodic Internal Penetration Tests</td>\n",
       "      <td>Perform periodic internal penetration tests ba...</td>\n",
       "      <td>T1562.006</td>\n",
       "    </tr>\n",
       "    <tr>\n",
       "      <th>104</th>\n",
       "      <td>18.5</td>\n",
       "      <td>Perform Periodic Internal Penetration Tests</td>\n",
       "      <td>Perform periodic internal penetration tests ba...</td>\n",
       "      <td>T1137.002</td>\n",
       "    </tr>\n",
       "    <tr>\n",
       "      <th>104</th>\n",
       "      <td>18.5</td>\n",
       "      <td>Perform Periodic Internal Penetration Tests</td>\n",
       "      <td>Perform periodic internal penetration tests ba...</td>\n",
       "      <td>T1539</td>\n",
       "    </tr>\n",
       "    <tr>\n",
       "      <th>104</th>\n",
       "      <td>18.5</td>\n",
       "      <td>Perform Periodic Internal Penetration Tests</td>\n",
       "      <td>Perform periodic internal penetration tests ba...</td>\n",
       "      <td>T1535</td>\n",
       "    </tr>\n",
       "    <tr>\n",
       "      <th>104</th>\n",
       "      <td>18.5</td>\n",
       "      <td>Perform Periodic Internal Penetration Tests</td>\n",
       "      <td>Perform periodic internal penetration tests ba...</td>\n",
       "      <td>T1550.004</td>\n",
       "    </tr>\n",
       "  </tbody>\n",
       "</table>\n",
       "<p>2962 rows × 4 columns</p>\n",
       "</div>"
      ],
      "text/plain": [
       "     Control ID                                       Control Name  \\\n",
       "0           1.1  Establish and Maintain Detailed Enterprise Ass...   \n",
       "1           1.2                        Address Unauthorized Assets   \n",
       "2           1.4  Use Dynamic Host Configuration Protocol (DHCP)...   \n",
       "3           2.1        Establish and Maintain a Software Inventory   \n",
       "3           2.1        Establish and Maintain a Software Inventory   \n",
       "..          ...                                                ...   \n",
       "104        18.5        Perform Periodic Internal Penetration Tests   \n",
       "104        18.5        Perform Periodic Internal Penetration Tests   \n",
       "104        18.5        Perform Periodic Internal Penetration Tests   \n",
       "104        18.5        Perform Periodic Internal Penetration Tests   \n",
       "104        18.5        Perform Periodic Internal Penetration Tests   \n",
       "\n",
       "                                           Description Technique ID  \n",
       "0    Establish and maintain an accurate, detailed, ...        T1200  \n",
       "1    Ensure that a process exists to address unauth...        T1200  \n",
       "2    Use DHCP logging on all DHCP servers or Intern...        T1200  \n",
       "3    Establish and maintain a detailed inventory of...        T1560  \n",
       "3    Establish and maintain a detailed inventory of...    T1560.001  \n",
       "..                                                 ...          ...  \n",
       "104  Perform periodic internal penetration tests ba...    T1562.006  \n",
       "104  Perform periodic internal penetration tests ba...    T1137.002  \n",
       "104  Perform periodic internal penetration tests ba...        T1539  \n",
       "104  Perform periodic internal penetration tests ba...        T1535  \n",
       "104  Perform periodic internal penetration tests ba...    T1550.004  \n",
       "\n",
       "[2962 rows x 4 columns]"
      ]
     },
     "execution_count": 6,
     "metadata": {},
     "output_type": "execute_result"
    }
   ],
   "source": [
    "ttp_control_map = get_cis_attck_mapping()\n",
    "print(\"Number of mappings:\",len(ttp_control_map.index))\n",
    "print(\"Number of TTPs:\",len(ttp_control_map['Technique ID'].value_counts().index))\n",
    "\n",
    "ttp_control_map = ttp_control_map.drop_duplicates()\n",
    "ttp_control_map"
   ]
  },
  {
   "cell_type": "code",
   "execution_count": 111,
   "metadata": {},
   "outputs": [
    {
     "name": "stdout",
     "output_type": "stream",
     "text": [
      "T1072        29\n",
      "T1552        28\n",
      "T1210        28\n",
      "T1190        24\n",
      "T1021.001    24\n",
      "             ..\n",
      "T1555.001     1\n",
      "T1498         1\n",
      "T1203         1\n",
      "T1218.011     1\n",
      "T1037.001     1\n",
      "Name: Technique ID, Length: 383, dtype: int64\n"
     ]
    },
    {
     "data": {
      "text/plain": [
       "Control ID  Control Name                                                                               \n",
       "4.1         Establish and Maintain a Secure Configuration Process                                          210\n",
       "18.3        Remediate Penetration Test Findings                                                            169\n",
       "6.2         Establish an Access Revoking Process                                                           158\n",
       "6.1         Establish an Access Granting Process                                                           158\n",
       "18.5        Perform Periodic Internal Penetration Tests                                                    153\n",
       "                                                                                                          ... \n",
       "12.6        Use of Secure Network Management and Communication Protocols                                     1\n",
       "1.2         Address Unauthorized Assets                                                                      1\n",
       "4.9         Configure Trusted DNS Servers on Enterprise Assets                                               1\n",
       "1.4         Use Dynamic Host Configuration Protocol (DHCP) Logging to Update Enterprise Asset Inventory      1\n",
       "9.1         Ensure Use of Only Fully Supported Browsers and Email Clients                                    1\n",
       "Length: 105, dtype: int64"
      ]
     },
     "execution_count": 111,
     "metadata": {},
     "output_type": "execute_result"
    }
   ],
   "source": [
    "ttp_control_map.to_excel(\"\")"
   ]
  },
  {
   "attachments": {},
   "cell_type": "markdown",
   "metadata": {},
   "source": [
    "#### CIS to ISO 27k mapping\n",
    "Merge the CIS-ATTCK mapping and the CIS-ISO27k mapping and include the control names. Write the result to [an excel file](./ISO_27001_2022_ATTCKv82.xlsx)."
   ]
  },
  {
   "cell_type": "code",
   "execution_count": 112,
   "metadata": {},
   "outputs": [
    {
     "name": "stdout",
     "output_type": "stream",
     "text": [
      "Number of mappings: 133\n"
     ]
    },
    {
     "data": {
      "text/plain": [
       "(62,)"
      ]
     },
     "execution_count": 112,
     "metadata": {},
     "output_type": "execute_result"
    }
   ],
   "source": [
    "cis_iso_mapping = pd.read_excel(\"CIS_Controls_v8_ISO27k_condensed.xlsx\")\n",
    "cis_iso_mapping = cis_iso_mapping.drop([\"CIS Controls v8\",\"CIS Controls\",\"Asset Type\"],axis=1)\n",
    "cis_iso_mapping['ISO Security Controls'] = cis_iso_mapping['ISO Security Controls'].apply(str).str.split(', ')\n",
    "print(\"Number of mappings:\",len(cis_iso_mapping.index))\n",
    "cis_iso_mapping.explode('ISO Security Controls')['ISO Security Controls'].unique().shape"
   ]
  },
  {
   "cell_type": "code",
   "execution_count": 113,
   "metadata": {},
   "outputs": [
    {
     "name": "stdout",
     "output_type": "stream",
     "text": [
      "(47,)\n"
     ]
    },
    {
     "data": {
      "text/html": [
       "<div>\n",
       "<style scoped>\n",
       "    .dataframe tbody tr th:only-of-type {\n",
       "        vertical-align: middle;\n",
       "    }\n",
       "\n",
       "    .dataframe tbody tr th {\n",
       "        vertical-align: top;\n",
       "    }\n",
       "\n",
       "    .dataframe thead th {\n",
       "        text-align: right;\n",
       "    }\n",
       "</style>\n",
       "<table border=\"1\" class=\"dataframe\">\n",
       "  <thead>\n",
       "    <tr style=\"text-align: right;\">\n",
       "      <th></th>\n",
       "      <th>Technique ID</th>\n",
       "      <th>Control Name</th>\n",
       "    </tr>\n",
       "    <tr>\n",
       "      <th>Control ID</th>\n",
       "      <th></th>\n",
       "      <th></th>\n",
       "    </tr>\n",
       "  </thead>\n",
       "  <tbody>\n",
       "    <tr>\n",
       "      <th>5.9</th>\n",
       "      <td>T1200</td>\n",
       "      <td>Inventory of information and other associated ...</td>\n",
       "    </tr>\n",
       "    <tr>\n",
       "      <th>5.9</th>\n",
       "      <td>T1560</td>\n",
       "      <td>Inventory of information and other associated ...</td>\n",
       "    </tr>\n",
       "    <tr>\n",
       "      <th>5.9</th>\n",
       "      <td>T1560.001</td>\n",
       "      <td>Inventory of information and other associated ...</td>\n",
       "    </tr>\n",
       "    <tr>\n",
       "      <th>5.9</th>\n",
       "      <td>T1059.006</td>\n",
       "      <td>Inventory of information and other associated ...</td>\n",
       "    </tr>\n",
       "    <tr>\n",
       "      <th>5.9</th>\n",
       "      <td>T1021.005</td>\n",
       "      <td>Inventory of information and other associated ...</td>\n",
       "    </tr>\n",
       "    <tr>\n",
       "      <th>...</th>\n",
       "      <td>...</td>\n",
       "      <td>...</td>\n",
       "    </tr>\n",
       "    <tr>\n",
       "      <th>8.29</th>\n",
       "      <td>T1574.009</td>\n",
       "      <td>Security testing in development and acceptance</td>\n",
       "    </tr>\n",
       "    <tr>\n",
       "      <th>8.29</th>\n",
       "      <td>T1574.007</td>\n",
       "      <td>Security testing in development and acceptance</td>\n",
       "    </tr>\n",
       "    <tr>\n",
       "      <th>8.29</th>\n",
       "      <td>T1574.008</td>\n",
       "      <td>Security testing in development and acceptance</td>\n",
       "    </tr>\n",
       "    <tr>\n",
       "      <th>8.29</th>\n",
       "      <td>T1574.001</td>\n",
       "      <td>Security testing in development and acceptance</td>\n",
       "    </tr>\n",
       "    <tr>\n",
       "      <th>8.29</th>\n",
       "      <td>T1574.002</td>\n",
       "      <td>Security testing in development and acceptance</td>\n",
       "    </tr>\n",
       "  </tbody>\n",
       "</table>\n",
       "<p>3257 rows × 2 columns</p>\n",
       "</div>"
      ],
      "text/plain": [
       "           Technique ID                                       Control Name\n",
       "Control ID                                                                \n",
       "5.9               T1200  Inventory of information and other associated ...\n",
       "5.9               T1560  Inventory of information and other associated ...\n",
       "5.9           T1560.001  Inventory of information and other associated ...\n",
       "5.9           T1059.006  Inventory of information and other associated ...\n",
       "5.9           T1021.005  Inventory of information and other associated ...\n",
       "...                 ...                                                ...\n",
       "8.29          T1574.009     Security testing in development and acceptance\n",
       "8.29          T1574.007     Security testing in development and acceptance\n",
       "8.29          T1574.008     Security testing in development and acceptance\n",
       "8.29          T1574.001     Security testing in development and acceptance\n",
       "8.29          T1574.002     Security testing in development and acceptance\n",
       "\n",
       "[3257 rows x 2 columns]"
      ]
     },
     "execution_count": 113,
     "metadata": {},
     "output_type": "execute_result"
    }
   ],
   "source": [
    "def get_iso_attck():\n",
    "    cis_iso_mapping = pd.read_excel(\"CIS_Controls_v8_ISO27k_condensed.xlsx\")\n",
    "    cis_iso_mapping = cis_iso_mapping.drop([\"CIS Controls v8\",\"CIS Controls\",\"Asset Type\"],axis=1)\n",
    "    cis_iso_mapping['ISO Security Controls'] = cis_iso_mapping['ISO Security Controls'].apply(str).str.split(', ')\n",
    "\n",
    "    cis_attck_mapping = pd.read_excel(\"CIS_Controls_v8_ATTCKv82_condensed.xlsx\")\n",
    "    cis_attck_mapping = cis_attck_mapping.drop([\"CIS Controls v8\",\"CIS Controls\",\"Asset Type\"],axis=1)\n",
    "    cis_attck_mapping['Technique ID'] = cis_attck_mapping['Technique ID'].str.split(', ')\n",
    "\n",
    "    cis_attck_iso = cis_attck_mapping.merge(cis_iso_mapping,on=\"Control ID\")\n",
    "    cis_attck_iso = cis_attck_iso.explode(\"ISO Security Controls\")\n",
    "    iso_attck = cis_attck_iso[['ISO Security Controls','Technique ID']]\n",
    "    iso_attck = iso_attck.set_axis(['Control ID','Technique ID'],axis=1)\n",
    "    iso_attck = iso_attck.explode('Technique ID').drop_duplicates(subset=[\"Control ID\",\"Technique ID\"])\n",
    "    iso_attck.set_index('Control ID',inplace=True)\n",
    "    iso_attck.drop_duplicates()\n",
    "    return iso_attck\n",
    "\n",
    "\n",
    "iso_attck = get_iso_attck()\n",
    "print(iso_attck.index.unique().shape)\n",
    "iso_controls = pd.read_excel(\"ISO_27001_2022_controls.xlsx\", dtype=str)\n",
    "iso_attck = iso_attck.merge(iso_controls,left_index=True,right_on=\"Control ID\")\n",
    "iso_attck.set_index('Control ID',inplace=True)\n",
    "\n",
    "if EXPORT:\n",
    "    iso_attck.to_excel(\"ISO_27001_2022_ATTCKv82.xlsx\")\n",
    "iso_attck\n"
   ]
  },
  {
   "attachments": {},
   "cell_type": "markdown",
   "metadata": {},
   "source": [
    "# Add ISO 27002:2013 support\n",
    "Try mapping to ISO 27002:2013 by using an existing mapping between ISO 27002:2022 and ISO 27002:2013"
   ]
  },
  {
   "cell_type": "code",
   "execution_count": 114,
   "metadata": {},
   "outputs": [
    {
     "data": {
      "text/plain": [
       "10     2\n",
       "11    15\n",
       "12    14\n",
       "13     7\n",
       "14    13\n",
       "15     5\n",
       "16     7\n",
       "17     4\n",
       "18     8\n",
       "5      2\n",
       "6      7\n",
       "7      6\n",
       "8     10\n",
       "9     14\n",
       "dtype: int64"
      ]
     },
     "execution_count": 114,
     "metadata": {},
     "output_type": "execute_result"
    }
   ],
   "source": [
    "iso_2022_2013 = pd.read_excel(\"ISO_27001_2022_2013.xlsx\",dtype=str)\n",
    "\n",
    "s = r'A?[.]?(\\d+)[.]'\n",
    "iso_2022_2013['Control-nr. 2013'].value_counts().index.str.extract(s).value_counts().sort_index()"
   ]
  },
  {
   "cell_type": "code",
   "execution_count": 115,
   "metadata": {},
   "outputs": [
    {
     "data": {
      "text/html": [
       "<div>\n",
       "<style scoped>\n",
       "    .dataframe tbody tr th:only-of-type {\n",
       "        vertical-align: middle;\n",
       "    }\n",
       "\n",
       "    .dataframe tbody tr th {\n",
       "        vertical-align: top;\n",
       "    }\n",
       "\n",
       "    .dataframe thead th {\n",
       "        text-align: right;\n",
       "    }\n",
       "</style>\n",
       "<table border=\"1\" class=\"dataframe\">\n",
       "  <thead>\n",
       "    <tr style=\"text-align: right;\">\n",
       "      <th></th>\n",
       "      <th>Technique ID</th>\n",
       "      <th>Control Name</th>\n",
       "    </tr>\n",
       "    <tr>\n",
       "      <th>Control ID</th>\n",
       "      <th></th>\n",
       "      <th></th>\n",
       "    </tr>\n",
       "  </thead>\n",
       "  <tbody>\n",
       "    <tr>\n",
       "      <th>8.1.1</th>\n",
       "      <td>T1200</td>\n",
       "      <td>Inventariseren van bedrijfsmiddelen</td>\n",
       "    </tr>\n",
       "    <tr>\n",
       "      <th>8.1.2</th>\n",
       "      <td>T1200</td>\n",
       "      <td>Eigendom van bedrijfsmiddelen</td>\n",
       "    </tr>\n",
       "    <tr>\n",
       "      <th>8.1.1</th>\n",
       "      <td>T1560</td>\n",
       "      <td>Inventariseren van bedrijfsmiddelen</td>\n",
       "    </tr>\n",
       "    <tr>\n",
       "      <th>8.1.2</th>\n",
       "      <td>T1560</td>\n",
       "      <td>Eigendom van bedrijfsmiddelen</td>\n",
       "    </tr>\n",
       "    <tr>\n",
       "      <th>8.1.1</th>\n",
       "      <td>T1560.001</td>\n",
       "      <td>Inventariseren van bedrijfsmiddelen</td>\n",
       "    </tr>\n",
       "    <tr>\n",
       "      <th>...</th>\n",
       "      <td>...</td>\n",
       "      <td>...</td>\n",
       "    </tr>\n",
       "    <tr>\n",
       "      <th>14.2.9</th>\n",
       "      <td>T1574.008</td>\n",
       "      <td>Systeemacceptatietests</td>\n",
       "    </tr>\n",
       "    <tr>\n",
       "      <th>14.2.8</th>\n",
       "      <td>T1574.001</td>\n",
       "      <td>Testen van systeembeveiliging</td>\n",
       "    </tr>\n",
       "    <tr>\n",
       "      <th>14.2.9</th>\n",
       "      <td>T1574.001</td>\n",
       "      <td>Systeemacceptatietests</td>\n",
       "    </tr>\n",
       "    <tr>\n",
       "      <th>14.2.8</th>\n",
       "      <td>T1574.002</td>\n",
       "      <td>Testen van systeembeveiliging</td>\n",
       "    </tr>\n",
       "    <tr>\n",
       "      <th>14.2.9</th>\n",
       "      <td>T1574.002</td>\n",
       "      <td>Systeemacceptatietests</td>\n",
       "    </tr>\n",
       "  </tbody>\n",
       "</table>\n",
       "<p>4639 rows × 2 columns</p>\n",
       "</div>"
      ],
      "text/plain": [
       "           Technique ID                         Control Name\n",
       "Control ID                                                  \n",
       "8.1.1             T1200  Inventariseren van bedrijfsmiddelen\n",
       "8.1.2             T1200        Eigendom van bedrijfsmiddelen\n",
       "8.1.1             T1560  Inventariseren van bedrijfsmiddelen\n",
       "8.1.2             T1560        Eigendom van bedrijfsmiddelen\n",
       "8.1.1         T1560.001  Inventariseren van bedrijfsmiddelen\n",
       "...                 ...                                  ...\n",
       "14.2.9        T1574.008               Systeemacceptatietests\n",
       "14.2.8        T1574.001        Testen van systeembeveiliging\n",
       "14.2.9        T1574.001               Systeemacceptatietests\n",
       "14.2.8        T1574.002        Testen van systeembeveiliging\n",
       "14.2.9        T1574.002               Systeemacceptatietests\n",
       "\n",
       "[4639 rows x 2 columns]"
      ]
     },
     "execution_count": 115,
     "metadata": {},
     "output_type": "execute_result"
    }
   ],
   "source": [
    "iso_2013_attck = iso_attck.merge(iso_2022_2013,left_index=True,right_on='Control-nr. 2022')\n",
    "iso_2013_attck.drop(['Control Name','Control-nr. 2022'],axis=1,inplace=True)\n",
    "iso_2013_attck.columns = ['Technique ID','Control ID', 'Control Name']\n",
    "iso_2013_attck.set_index('Control ID',inplace=True)\n",
    "iso_2013_attck = iso_2013_attck.drop_duplicates()\n",
    "if EXPORT:\n",
    "    iso_2013_attck.to_excel(\"ISO_27001_2013_ATTCKv82.xlsx\")\n",
    "iso_2013_attck"
   ]
  },
  {
   "cell_type": "code",
   "execution_count": 116,
   "metadata": {},
   "outputs": [
    {
     "data": {
      "text/plain": [
       "11     3\n",
       "12    10\n",
       "13     6\n",
       "14     9\n",
       "15     2\n",
       "16     4\n",
       "18     2\n",
       "5      2\n",
       "6      4\n",
       "7      2\n",
       "8      7\n",
       "9     14\n",
       "dtype: int64"
      ]
     },
     "execution_count": 116,
     "metadata": {},
     "output_type": "execute_result"
    }
   ],
   "source": [
    "iso_2013_attck.index.map(str).value_counts().index.str.extract(s).value_counts().sort_index()"
   ]
  },
  {
   "attachments": {},
   "cell_type": "markdown",
   "metadata": {},
   "source": [
    "# Another approach\n",
    "Within the CIS v8. to MITRE ATTCK mapping are the CIS v7.1 controls included. There also exist mapping from CIS 7.1 to ISO 27001:2013. This will be leveraged."
   ]
  },
  {
   "cell_type": "code",
   "execution_count": 117,
   "metadata": {},
   "outputs": [
    {
     "name": "stdout",
     "output_type": "stream",
     "text": [
      "Number of mappings: (4619, 2)\n"
     ]
    }
   ],
   "source": [
    "cis7_attck = pd.read_excel(\"CIS_Controls_v7.1_ATTCKv82_condensed.xlsx\",dtype=str)\n",
    "cis7_attck = cis7_attck.dropna().drop_duplicates()\n",
    "cis7_attck['CIS V7.1'] = cis7_attck['CIS V7.1'].apply(str).str.split(', ')\n",
    "cis7_attck = cis7_attck.explode('CIS V7.1').drop_duplicates()\n",
    "print(\"Number of mappings:\",cis7_attck.shape)"
   ]
  },
  {
   "cell_type": "code",
   "execution_count": 118,
   "metadata": {},
   "outputs": [
    {
     "data": {
      "text/html": [
       "<div>\n",
       "<style scoped>\n",
       "    .dataframe tbody tr th:only-of-type {\n",
       "        vertical-align: middle;\n",
       "    }\n",
       "\n",
       "    .dataframe tbody tr th {\n",
       "        vertical-align: top;\n",
       "    }\n",
       "\n",
       "    .dataframe thead th {\n",
       "        text-align: right;\n",
       "    }\n",
       "</style>\n",
       "<table border=\"1\" class=\"dataframe\">\n",
       "  <thead>\n",
       "    <tr style=\"text-align: right;\">\n",
       "      <th></th>\n",
       "      <th>TTP ID</th>\n",
       "      <th>ISO 27001:2013</th>\n",
       "    </tr>\n",
       "  </thead>\n",
       "  <tbody>\n",
       "    <tr>\n",
       "      <th>0</th>\n",
       "      <td>T1200</td>\n",
       "      <td>A.8.1.1</td>\n",
       "    </tr>\n",
       "    <tr>\n",
       "      <th>3</th>\n",
       "      <td>T1200</td>\n",
       "      <td>A.13.1.3</td>\n",
       "    </tr>\n",
       "    <tr>\n",
       "      <th>4</th>\n",
       "      <td>T1200</td>\n",
       "      <td>A.13.1.2</td>\n",
       "    </tr>\n",
       "    <tr>\n",
       "      <th>5</th>\n",
       "      <td>T1200</td>\n",
       "      <td>A.11.2.5</td>\n",
       "    </tr>\n",
       "    <tr>\n",
       "      <th>7</th>\n",
       "      <td>T1560</td>\n",
       "      <td>A.8.1.1</td>\n",
       "    </tr>\n",
       "    <tr>\n",
       "      <th>...</th>\n",
       "      <td>...</td>\n",
       "      <td>...</td>\n",
       "    </tr>\n",
       "    <tr>\n",
       "      <th>3880</th>\n",
       "      <td>T1562.006</td>\n",
       "      <td>A.18.2.3</td>\n",
       "    </tr>\n",
       "    <tr>\n",
       "      <th>3881</th>\n",
       "      <td>T1137.002</td>\n",
       "      <td>A.18.2.3</td>\n",
       "    </tr>\n",
       "    <tr>\n",
       "      <th>3882</th>\n",
       "      <td>T1539</td>\n",
       "      <td>A.18.2.3</td>\n",
       "    </tr>\n",
       "    <tr>\n",
       "      <th>3883</th>\n",
       "      <td>T1535</td>\n",
       "      <td>A.18.2.3</td>\n",
       "    </tr>\n",
       "    <tr>\n",
       "      <th>3884</th>\n",
       "      <td>T1550.004</td>\n",
       "      <td>A.18.2.3</td>\n",
       "    </tr>\n",
       "  </tbody>\n",
       "</table>\n",
       "<p>2800 rows × 2 columns</p>\n",
       "</div>"
      ],
      "text/plain": [
       "         TTP ID ISO 27001:2013\n",
       "0         T1200        A.8.1.1\n",
       "3         T1200       A.13.1.3\n",
       "4         T1200       A.13.1.2\n",
       "5         T1200       A.11.2.5\n",
       "7         T1560        A.8.1.1\n",
       "...         ...            ...\n",
       "3880  T1562.006       A.18.2.3\n",
       "3881  T1137.002       A.18.2.3\n",
       "3882      T1539       A.18.2.3\n",
       "3883      T1535       A.18.2.3\n",
       "3884  T1550.004       A.18.2.3\n",
       "\n",
       "[2800 rows x 2 columns]"
      ]
     },
     "execution_count": 118,
     "metadata": {},
     "output_type": "execute_result"
    }
   ],
   "source": [
    "cis_iso13_mapping = pd.read_excel(\"CIS_Controls_v7.1_Mapping_to_ISO_27001_2013_condensed.xlsx\",dtype=str)\n",
    "cis_iso13_mapping = cis_iso13_mapping.drop([\"CIS Controls v7.1\",\"CIS Controls\",\"Asset Type\"],axis=1)\n",
    "cis_iso13_mapping['ISO 27001:2013'] = cis_iso13_mapping['ISO 27001:2013'].apply(str).str.split(', ')\n",
    "\n",
    "cis7_iso13_attck = cis7_attck.merge(cis_iso13_mapping,left_on=\"CIS V7.1\",right_on=\"CIS Safeguards\")\n",
    "iso13_attck = cis7_iso13_attck.explode(\"ISO 27001:2013\")\n",
    "iso13_attck = iso13_attck.drop(['CIS V7.1', 'CIS Safeguards'],axis=1)\n",
    "iso13_attck = iso13_attck.drop_duplicates()\n",
    "iso13_attck\n"
   ]
  },
  {
   "cell_type": "code",
   "execution_count": 119,
   "metadata": {},
   "outputs": [
    {
     "name": "stdout",
     "output_type": "stream",
     "text": [
      "13\n"
     ]
    },
    {
     "data": {
      "text/plain": [
       "10     1\n",
       "11     1\n",
       "12    12\n",
       "13     4\n",
       "14     5\n",
       "16     4\n",
       "18     1\n",
       "6      2\n",
       "7      1\n",
       "8      6\n",
       "9     10\n",
       "dtype: int64"
      ]
     },
     "execution_count": 119,
     "metadata": {},
     "output_type": "execute_result"
    }
   ],
   "source": [
    "import re\n",
    "s = r'A[.](\\d+)[.]'\n",
    "print(re.search(s,'A.13.').group(1))\n",
    "mapping_analysis = cis_iso13_mapping.explode('ISO 27001:2013')\n",
    "mapping_analysis['ISO 27001:2013'].value_counts().index.str.extract(s).value_counts().sort_index()\n",
    "# mapping_analysis\n",
    "# print(\"Number of ISO controls\",mapping_analysis['ISO 27001:2013'].unique().shape)\n",
    "# print(\"Number of CIS controls\",mapping_analysis['CIS Safeguards'].unique().shape)"
   ]
  },
  {
   "attachments": {},
   "cell_type": "markdown",
   "metadata": {},
   "source": [
    "#### Add BIO names"
   ]
  },
  {
   "cell_type": "code",
   "execution_count": 120,
   "metadata": {},
   "outputs": [
    {
     "name": "stdout",
     "output_type": "stream",
     "text": [
      "Index(['Control-nr. 2013', 'Control-Name 2013'], dtype='object')\n"
     ]
    },
    {
     "data": {
      "text/html": [
       "<div>\n",
       "<style scoped>\n",
       "    .dataframe tbody tr th:only-of-type {\n",
       "        vertical-align: middle;\n",
       "    }\n",
       "\n",
       "    .dataframe tbody tr th {\n",
       "        vertical-align: top;\n",
       "    }\n",
       "\n",
       "    .dataframe thead th {\n",
       "        text-align: right;\n",
       "    }\n",
       "</style>\n",
       "<table border=\"1\" class=\"dataframe\">\n",
       "  <thead>\n",
       "    <tr style=\"text-align: right;\">\n",
       "      <th></th>\n",
       "      <th>Technique ID</th>\n",
       "      <th>Control Name</th>\n",
       "    </tr>\n",
       "    <tr>\n",
       "      <th>Control ID</th>\n",
       "      <th></th>\n",
       "      <th></th>\n",
       "    </tr>\n",
       "  </thead>\n",
       "  <tbody>\n",
       "    <tr>\n",
       "      <th>A.8.1.1</th>\n",
       "      <td>T1200</td>\n",
       "      <td>Inventariseren van bedrijfsmiddelen</td>\n",
       "    </tr>\n",
       "    <tr>\n",
       "      <th>A.13.1.3</th>\n",
       "      <td>T1200</td>\n",
       "      <td>Scheiding in netwerken</td>\n",
       "    </tr>\n",
       "    <tr>\n",
       "      <th>A.13.1.2</th>\n",
       "      <td>T1200</td>\n",
       "      <td>Beveiliging van netwerkdiensten</td>\n",
       "    </tr>\n",
       "    <tr>\n",
       "      <th>A.11.2.5</th>\n",
       "      <td>T1200</td>\n",
       "      <td>Verwijdering van bedrijfsmiddelen</td>\n",
       "    </tr>\n",
       "    <tr>\n",
       "      <th>A.8.1.1</th>\n",
       "      <td>T1560</td>\n",
       "      <td>Inventariseren van bedrijfsmiddelen</td>\n",
       "    </tr>\n",
       "    <tr>\n",
       "      <th>...</th>\n",
       "      <td>...</td>\n",
       "      <td>...</td>\n",
       "    </tr>\n",
       "    <tr>\n",
       "      <th>A.18.2.3</th>\n",
       "      <td>T1562.006</td>\n",
       "      <td>Beoordeling van technische naleving</td>\n",
       "    </tr>\n",
       "    <tr>\n",
       "      <th>A.18.2.3</th>\n",
       "      <td>T1137.002</td>\n",
       "      <td>Beoordeling van technische naleving</td>\n",
       "    </tr>\n",
       "    <tr>\n",
       "      <th>A.18.2.3</th>\n",
       "      <td>T1539</td>\n",
       "      <td>Beoordeling van technische naleving</td>\n",
       "    </tr>\n",
       "    <tr>\n",
       "      <th>A.18.2.3</th>\n",
       "      <td>T1535</td>\n",
       "      <td>Beoordeling van technische naleving</td>\n",
       "    </tr>\n",
       "    <tr>\n",
       "      <th>A.18.2.3</th>\n",
       "      <td>T1550.004</td>\n",
       "      <td>Beoordeling van technische naleving</td>\n",
       "    </tr>\n",
       "  </tbody>\n",
       "</table>\n",
       "<p>2800 rows × 2 columns</p>\n",
       "</div>"
      ],
      "text/plain": [
       "           Technique ID                         Control Name\n",
       "Control ID                                                  \n",
       "A.8.1.1           T1200  Inventariseren van bedrijfsmiddelen\n",
       "A.13.1.3          T1200               Scheiding in netwerken\n",
       "A.13.1.2          T1200      Beveiliging van netwerkdiensten\n",
       "A.11.2.5          T1200    Verwijdering van bedrijfsmiddelen\n",
       "A.8.1.1           T1560  Inventariseren van bedrijfsmiddelen\n",
       "...                 ...                                  ...\n",
       "A.18.2.3      T1562.006  Beoordeling van technische naleving\n",
       "A.18.2.3      T1137.002  Beoordeling van technische naleving\n",
       "A.18.2.3          T1539  Beoordeling van technische naleving\n",
       "A.18.2.3          T1535  Beoordeling van technische naleving\n",
       "A.18.2.3      T1550.004  Beoordeling van technische naleving\n",
       "\n",
       "[2800 rows x 2 columns]"
      ]
     },
     "execution_count": 120,
     "metadata": {},
     "output_type": "execute_result"
    }
   ],
   "source": [
    "bio_controls = pd.read_excel(\"ISO_27001_2022_2013.xlsx\", usecols=[1,2], dtype=str)\n",
    "bio_controls = bio_controls.drop_duplicates()\n",
    "print(bio_controls.columns)\n",
    "bio_controls['Control-nr. 2013'] = \"A.\"+bio_controls['Control-nr. 2013']\n",
    "bio_controls\n",
    "\n",
    "iso13_attck_names = iso13_attck.merge(bio_controls,left_on=\"ISO 27001:2013\",right_on=\"Control-nr. 2013\",how='left')\n",
    "iso13_attck_names.drop('Control-nr. 2013',axis=1,inplace=True)\n",
    "iso13_attck_names.columns = ['Technique ID','Control ID','Control Name']\n",
    "iso13_attck_names.set_index('Control ID',inplace=True)\n",
    "if EXPORT:\n",
    "    iso13_attck_names.to_excel(\"ISO_27001_2013_ATTCKv82_FROM_CIS7.xlsx\")\n",
    "iso13_attck_names\n"
   ]
  },
  {
   "cell_type": "code",
   "execution_count": 123,
   "metadata": {},
   "outputs": [
    {
     "data": {
      "text/plain": [
       "10     1\n",
       "11     1\n",
       "12    10\n",
       "13     4\n",
       "14     5\n",
       "18     1\n",
       "6      1\n",
       "7      1\n",
       "8      4\n",
       "9     10\n",
       "dtype: int64"
      ]
     },
     "execution_count": 123,
     "metadata": {},
     "output_type": "execute_result"
    }
   ],
   "source": [
    "iso13_attck_names.index.value_counts().index.str.extract(s).value_counts().sort_index()"
   ]
  },
  {
   "attachments": {},
   "cell_type": "markdown",
   "metadata": {},
   "source": [
    "# Mapping from CIS to NIST CSF\n",
    "Even though there exists a mapping from NIST SP-800 53 to NIST CSF, it might be interesting to spot the difference."
   ]
  }
 ],
 "metadata": {
  "kernelspec": {
   "display_name": "base",
   "language": "python",
   "name": "python3"
  },
  "language_info": {
   "codemirror_mode": {
    "name": "ipython",
    "version": 3
   },
   "file_extension": ".py",
   "mimetype": "text/x-python",
   "name": "python",
   "nbconvert_exporter": "python",
   "pygments_lexer": "ipython3",
   "version": "3.9.13"
  },
  "orig_nbformat": 4
 },
 "nbformat": 4,
 "nbformat_minor": 2
}
